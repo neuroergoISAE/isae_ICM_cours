{
 "cells": [
  {
   "cell_type": "markdown",
   "id": "442458e4-dc7b-4de3-87ef-f6ad509f5cb1",
   "metadata": {},
   "source": [
    "<h1 class=\"text-center\">EEG data analysis with MNE (+ Python and Pandas introduction)</h1>\n",
    "<h2 class=\"text-center\">February, 2022</h2>\n",
    "\n",
    "<br>\n",
    "\n",
    "The purpose of this tutorial is to go over the data analysis steps you previously performed using the EEGLab program, but this time using the MNE python library. Also, this tutorial will serve as an introduction to basic Python concepts and the library Pandas, that will be used in future tutorials.\n",
    "</b></div>\n",
    "\n",
    "- In Section I, we will go over basic python structures such as lists, dictionaries, functions and classes\n",
    "- In Section II, we will introduce MNE and explain the main objects used to analyze EEG data (Raw, Epochs, etc.)\n",
    "- In Section III, we will describe the process to analyze the 'Rest vs Count down experiment' data\n",
    "- In Section IV, the 'Oddball task' data will be analyzed\n",
    "\n",
    "The code must be completed after each **Question** to work, where \"HERE\" appears as a comment in the code. The parameters that do not change the course of the story are accompanied \"EDIT ME!\" as a comment: you can change them at the time or at the end of the section to see the changes involved."
   ]
  },
  {
   "cell_type": "markdown",
   "id": "8f9c6ff9-a1a1-4e56-be8b-656c6b5fdc8a",
   "metadata": {},
   "source": [
    "# I - Python basics to get started\n",
    "First of all, we will go over the basics needed for python and jupyter notebooks so you can follow and complete the course going ahead. In order to execute the code you will see in the notebooks, click on a cell (like the one below) and press `Ctrl + Enter` to execute it. For those not on Windows, keep in mind the following:\n",
    "\n",
    "- `Ctrl`: Command key `⌘`\n",
    "- `Shift`: Shift `⇧`\n",
    "- `Alt`: Option key `⌥`"
   ]
  },
  {
   "cell_type": "code",
   "execution_count": 6,
   "id": "3588165c-8ddd-47e6-9777-1166b5cd82b1",
   "metadata": {},
   "outputs": [
    {
     "name": "stdout",
     "output_type": "stream",
     "text": [
      "Cell executed correctly\n"
     ]
    }
   ],
   "source": [
    "print(\"Cell executed correctly\")"
   ]
  },
  {
   "cell_type": "markdown",
   "id": "cf633e74-145a-4b4b-8f1a-20d342fdc9c2",
   "metadata": {},
   "source": [
    "You can also use `Shift + Enter` to execute the cell and move to the next one (if there is no cell below, it will insert a new one), and `Alt + Enter` to execute the current cell and insert a new one just below (even if there are cells after the one you run)."
   ]
  },
  {
   "cell_type": "code",
   "execution_count": 7,
   "id": "f334b855-cc8d-467e-a9d2-010a4cb4d82b",
   "metadata": {},
   "outputs": [
    {
     "name": "stdout",
     "output_type": "stream",
     "text": [
      "Run me with Shift + Enter to go to the cell below\n"
     ]
    }
   ],
   "source": [
    "print(\"Run me with Shift + Enter to go to the cell below\")"
   ]
  },
  {
   "cell_type": "code",
   "execution_count": 8,
   "id": "cbec7ceb-1273-4b0d-8aa7-e04191426871",
   "metadata": {},
   "outputs": [
    {
     "name": "stdout",
     "output_type": "stream",
     "text": [
      "Run me with Alt + Enter to insert a new cell below, and print something there!\n"
     ]
    }
   ],
   "source": [
    "print(\"Run me with Alt + Enter to insert a new cell below, and print something there!\")"
   ]
  },
  {
   "cell_type": "markdown",
   "id": "03f3d5e9-bd57-4aee-b8c8-d9316058177a",
   "metadata": {},
   "source": [
    "A code cell will execute all the code inside it, and all the variables will be stored for the rest of the notebook. Be careful! Variables will stay in memory even if you delete the cell.\n",
    "\n",
    "Let us see an example of code using multiple cells:"
   ]
  },
  {
   "cell_type": "code",
   "execution_count": 14,
   "id": "e0ad364b-d190-497f-8e5b-7f61c05b940f",
   "metadata": {},
   "outputs": [],
   "source": [
    "# Let's find out the number of seconds in a day\n",
    "n_hours = 24\n",
    "n_min = 60  # Minutes per hour\n",
    "\n",
    "min_day = n_hours * n_min"
   ]
  },
  {
   "cell_type": "code",
   "execution_count": 15,
   "id": "5cd9c5ee-2c9d-4c88-9f9b-81d00017cfcd",
   "metadata": {},
   "outputs": [
    {
     "name": "stdout",
     "output_type": "stream",
     "text": [
      "The number of seconds in a day is 86400\n"
     ]
    }
   ],
   "source": [
    "n_seconds = 60  # Seconds in a minute\n",
    "sec_day = min_day * n_seconds\n",
    "\n",
    "print(f'The number of seconds in a day is {sec_day}')"
   ]
  },
  {
   "cell_type": "markdown",
   "id": "7e3a8e98-9948-4efc-b85e-9228b4cdd9f5",
   "metadata": {},
   "source": [
    "We can assign values to variables using the `=` operator. A variable is just a name we give to a particular value, you can imagine it as a box you put a certain value into, and on which you write a name with a black marker. The following code block contains two operations. First, we assign the value 2 to the name `x`. After that `x` will hold the value 2. You might say Python stored the value 2 in `x`. Finally we print the value using the `print()` command. "
   ]
  },
  {
   "cell_type": "code",
   "execution_count": 18,
   "id": "e8fa63c8-1a40-4a84-a944-90a60acecd48",
   "metadata": {},
   "outputs": [
    {
     "name": "stdout",
     "output_type": "stream",
     "text": [
      "2\n"
     ]
    }
   ],
   "source": [
    "x = 2 \n",
    "print(x)"
   ]
  },
  {
   "cell_type": "markdown",
   "id": "d5458547-99f2-457e-80e2-7aebd105e98f",
   "metadata": {},
   "source": [
    "Now we stores the value '2' in `x`, and hence we can use it for operations like these:"
   ]
  },
  {
   "cell_type": "code",
   "execution_count": 20,
   "id": "f32e10da-1f8e-4695-ad82-eec3c53823c9",
   "metadata": {},
   "outputs": [
    {
     "name": "stdout",
     "output_type": "stream",
     "text": [
      "4\n",
      "True\n",
      "False\n"
     ]
    }
   ],
   "source": [
    "print(x * x)\n",
    "print(x == x)\n",
    "print(x > 6)"
   ]
  },
  {
   "cell_type": "markdown",
   "id": "affcbc36-311e-4807-8d9a-bc08a5fddd21",
   "metadata": {},
   "source": [
    "Let's explain these a bit:\n",
    "- In the first case, we are taking our value and multiplying it by itself\n",
    "- In the second case, we are using the double equal `==` operator. Contrary to `=`, that assigns the value on the right to the variable on the left, the `==` symbol checks whether the two values are equal or not, and always returns `True` or `False`. Theew is also the operator `!=`, which returns True when the compared elements are not equal\n",
    "- Finally, the third case used the `>` operator, which returns true when the value on the left is higher than the value on the right. Other related operators are `<`, `>=`, and `<=`"
   ]
  },
  {
   "cell_type": "markdown",
   "id": "5a99ef59-a59e-4949-8087-d56b47774d84",
   "metadata": {},
   "source": [
    "Of course, variables are not limited to integers, we can do strings (text) like the following:"
   ]
  },
  {
   "cell_type": "code",
   "execution_count": 21,
   "id": "a23fcf74-db16-4b9d-bb0e-2147759a14f2",
   "metadata": {},
   "outputs": [
    {
     "name": "stdout",
     "output_type": "stream",
     "text": [
      "Radiant Words\n"
     ]
    }
   ],
   "source": [
    "book = \"Radiant Words\"\n",
    "print(book)"
   ]
  },
  {
   "cell_type": "markdown",
   "id": "32d4ed90-15ee-415a-b7be-09aa1f93bf36",
   "metadata": {},
   "source": [
    "Although we can give our variables any name we want, it is better to use descriptive names that are easy to understand by other people (Note: your future self looking at the code six months from now also counts as other people). Although extreme, not leveraging the power of clean variable names could have some devastating effects on the readability of your code."
   ]
  },
  {
   "cell_type": "code",
   "execution_count": 24,
   "id": "6abf4934-b1b8-4c8e-817d-0132cc8ce33e",
   "metadata": {},
   "outputs": [
    {
     "name": "stdout",
     "output_type": "stream",
     "text": [
      "True\n",
      "True\n"
     ]
    }
   ],
   "source": [
    "a = 2\n",
    "aa = 5\n",
    "aaa = 10\n",
    "aaaa = 1\n",
    "\n",
    "print(aa > aaaa)\n",
    "print(a <= aaa)"
   ]
  },
  {
   "cell_type": "markdown",
   "id": "b805fc39-df69-49d6-88bf-74fb9698af34",
   "metadata": {},
   "source": [
    "You can also update variables:"
   ]
  },
  {
   "cell_type": "code",
   "execution_count": 25,
   "id": "16a4295b-693f-4bfe-8d88-1884cdb027db",
   "metadata": {},
   "outputs": [
    {
     "name": "stdout",
     "output_type": "stream",
     "text": [
      "1001\n"
     ]
    }
   ],
   "source": [
    "n_books = 1000\n",
    "n_books = n_books + 1\n",
    "print(n_books)"
   ]
  },
  {
   "cell_type": "markdown",
   "id": "d27c5edb-875f-45b1-a7fd-316e55e0bdd4",
   "metadata": {},
   "source": [
    "This is equivalent to:"
   ]
  },
  {
   "cell_type": "code",
   "execution_count": 26,
   "id": "5535ca79-255d-4b0c-a889-b34ce7865a01",
   "metadata": {},
   "outputs": [
    {
     "name": "stdout",
     "output_type": "stream",
     "text": [
      "1001\n"
     ]
    }
   ],
   "source": [
    "n_books = 1000\n",
    "n_books += 1\n",
    "print(n_books)"
   ]
  },
  {
   "cell_type": "markdown",
   "id": "7eee1f46-8662-40f0-84cb-59f9b7e15c7e",
   "metadata": {},
   "source": [
    "## Lists and Dictionaries\n",
    "\n",
    "We will now go over two of the most important data structures in Python: lists and dictionaries. These are used to store different variables using the structure that better serves our purpose:\n",
    "\n",
    "- Lists keep the variables in the order we add them to the list, and are indexed by position\n",
    "- Dictionaries do not keep an order, as they are indexed by a \"key\", similar to how real dictionaries are ordered by words that contain definitions\n",
    "\n",
    "We will start with lists. A list is created with square brackets `[ ]` and can contain any type of variable:"
   ]
  },
  {
   "cell_type": "code",
   "execution_count": 29,
   "id": "dc699037-9291-4d05-b70d-3d320a1f888e",
   "metadata": {},
   "outputs": [
    {
     "name": "stdout",
     "output_type": "stream",
     "text": [
      "[1, 2, 'three', 5.7, True]\n"
     ]
    }
   ],
   "source": [
    "my_list = [1, 2, \"three\", 5.7, True]\n",
    "print(my_list)"
   ]
  },
  {
   "cell_type": "markdown",
   "id": "8771712f-8cf6-423a-a392-fbb11c971559",
   "metadata": {},
   "source": [
    "To recover elements of the list, we use the index or position. For example, if we want to print the first element of the list:"
   ]
  },
  {
   "cell_type": "code",
   "execution_count": 31,
   "id": "88c7a7a1-7dc0-453b-9bd9-a193baf16dbb",
   "metadata": {},
   "outputs": [
    {
     "name": "stdout",
     "output_type": "stream",
     "text": [
      "1\n"
     ]
    }
   ],
   "source": [
    "print(my_list[0])"
   ]
  },
  {
   "cell_type": "markdown",
   "id": "919aa0eb-049c-4f0c-8531-de0f89a6a5ee",
   "metadata": {},
   "source": [
    "In Python, the first index of any element is always 0. You need to keep in mind the length of the list, as you will get an error if you try to index beyond the length of the list."
   ]
  },
  {
   "cell_type": "code",
   "execution_count": 32,
   "id": "54fbef71-39ab-4be4-9bfa-7a9e858d1f57",
   "metadata": {},
   "outputs": [
    {
     "ename": "IndexError",
     "evalue": "list index out of range",
     "output_type": "error",
     "traceback": [
      "\u001b[0;31m---------------------------------------------------------------------------\u001b[0m",
      "\u001b[0;31mIndexError\u001b[0m                                Traceback (most recent call last)",
      "Input \u001b[0;32mIn [32]\u001b[0m, in \u001b[0;36m<cell line: 1>\u001b[0;34m()\u001b[0m\n\u001b[0;32m----> 1\u001b[0m \u001b[38;5;28mprint\u001b[39m(\u001b[43mmy_list\u001b[49m\u001b[43m[\u001b[49m\u001b[38;5;241;43m20\u001b[39;49m\u001b[43m]\u001b[49m)\n",
      "\u001b[0;31mIndexError\u001b[0m: list index out of range"
     ]
    }
   ],
   "source": [
    "print(my_list[20])"
   ]
  },
  {
   "cell_type": "markdown",
   "id": "015519cb-d93f-478d-9f20-80ee1274461a",
   "metadata": {},
   "source": [
    "Usually, lists are iterated over using a for loop, and the iterator used is a range of numbers generated over the length of the list, like this:"
   ]
  },
  {
   "cell_type": "code",
   "execution_count": 34,
   "id": "665d75da-ac71-4d40-8d2b-6d1e361fc085",
   "metadata": {},
   "outputs": [
    {
     "name": "stdout",
     "output_type": "stream",
     "text": [
      "1\n",
      "2\n",
      "three\n",
      "5.7\n",
      "True\n"
     ]
    }
   ],
   "source": [
    "for idx in range(len(my_list)):\n",
    "    print(my_list[idx])"
   ]
  },
  {
   "cell_type": "markdown",
   "id": "2553c771-d4c9-4f56-81dd-6a7ad66aa099",
   "metadata": {},
   "source": [
    "The `len()` function returns the number of elements on a list, while the `range()` function takes a number and generates a list of numbers from 0 to the number - 1. This is a good time to tell you that you can check how any function works by running a code cell with the function name followed by `?`:"
   ]
  },
  {
   "cell_type": "code",
   "execution_count": 37,
   "id": "ebe5570d-aee7-4243-bb96-55e79621be7b",
   "metadata": {},
   "outputs": [
    {
     "data": {
      "text/plain": [
       "\u001b[0;31mInit signature:\u001b[0m \u001b[0mrange\u001b[0m\u001b[0;34m(\u001b[0m\u001b[0mself\u001b[0m\u001b[0;34m,\u001b[0m \u001b[0;34m/\u001b[0m\u001b[0;34m,\u001b[0m \u001b[0;34m*\u001b[0m\u001b[0margs\u001b[0m\u001b[0;34m,\u001b[0m \u001b[0;34m**\u001b[0m\u001b[0mkwargs\u001b[0m\u001b[0;34m)\u001b[0m\u001b[0;34m\u001b[0m\u001b[0;34m\u001b[0m\u001b[0m\n",
       "\u001b[0;31mDocstring:\u001b[0m     \n",
       "range(stop) -> range object\n",
       "range(start, stop[, step]) -> range object\n",
       "\n",
       "Return an object that produces a sequence of integers from start (inclusive)\n",
       "to stop (exclusive) by step.  range(i, j) produces i, i+1, i+2, ..., j-1.\n",
       "start defaults to 0, and stop is omitted!  range(4) produces 0, 1, 2, 3.\n",
       "These are exactly the valid indices for a list of 4 elements.\n",
       "When step is given, it specifies the increment (or decrement).\n",
       "\u001b[0;31mType:\u001b[0m           type\n",
       "\u001b[0;31mSubclasses:\u001b[0m     \n"
      ]
     },
     "metadata": {},
     "output_type": "display_data"
    }
   ],
   "source": [
    "range?"
   ]
  },
  {
   "cell_type": "code",
   "execution_count": 38,
   "id": "1164a147-7544-4e21-9d80-ba66335b3ea1",
   "metadata": {},
   "outputs": [
    {
     "data": {
      "text/plain": [
       "\u001b[0;31mSignature:\u001b[0m \u001b[0mlen\u001b[0m\u001b[0;34m(\u001b[0m\u001b[0mobj\u001b[0m\u001b[0;34m,\u001b[0m \u001b[0;34m/\u001b[0m\u001b[0;34m)\u001b[0m\u001b[0;34m\u001b[0m\u001b[0;34m\u001b[0m\u001b[0m\n",
       "\u001b[0;31mDocstring:\u001b[0m Return the number of items in a container.\n",
       "\u001b[0;31mType:\u001b[0m      builtin_function_or_method\n"
      ]
     },
     "metadata": {},
     "output_type": "display_data"
    }
   ],
   "source": [
    "len?"
   ]
  },
  {
   "cell_type": "markdown",
   "id": "29277924-c3cd-4eb4-bd3c-70b59c555646",
   "metadata": {},
   "source": [
    "Whenever you encounter a function and you are unsure of how it works, check the documentation! This will be very valuable going forward. According to the documentation on `range()`, we can choose the starting and stopping point of the sequence, and even the step!"
   ]
  },
  {
   "cell_type": "code",
   "execution_count": 42,
   "id": "2bfe52e7-625c-4de4-a45b-17a6b786c9b8",
   "metadata": {},
   "outputs": [
    {
     "name": "stdout",
     "output_type": "stream",
     "text": [
      "10\n",
      "11\n",
      "12\n",
      "13\n",
      "14\n"
     ]
    }
   ],
   "source": [
    "for i in range(10, 15):  # (start, stop)\n",
    "    print(i)"
   ]
  },
  {
   "cell_type": "code",
   "execution_count": 43,
   "id": "39f1980d-10d8-4ad3-85c0-8b24a0aed91e",
   "metadata": {},
   "outputs": [
    {
     "name": "stdout",
     "output_type": "stream",
     "text": [
      "10\n",
      "12\n",
      "14\n",
      "16\n",
      "18\n",
      "20\n",
      "22\n",
      "24\n",
      "26\n",
      "28\n",
      "30\n"
     ]
    }
   ],
   "source": [
    "for i in range(10, 31, 2):  # (start, stop, step)\n",
    "    print(i)"
   ]
  },
  {
   "cell_type": "markdown",
   "id": "97779480-b16b-412c-ac12-b01503199182",
   "metadata": {},
   "source": [
    "You can also index using negative numbers to start from the end "
   ]
  },
  {
   "cell_type": "code",
   "execution_count": 45,
   "id": "03b7cd58-a333-40a9-8438-34e086c8b89f",
   "metadata": {},
   "outputs": [
    {
     "name": "stdout",
     "output_type": "stream",
     "text": [
      "5.7\n"
     ]
    }
   ],
   "source": [
    "print(my_list[-2])"
   ]
  },
  {
   "cell_type": "markdown",
   "id": "812a9c6f-b6ee-4857-bea4-7cbe0fe678b3",
   "metadata": {},
   "source": [
    "Could you iterate the list in reverse? Try it out! Also, we can index several elements at once by using a range of indexes separared by `:`"
   ]
  },
  {
   "cell_type": "code",
   "execution_count": 49,
   "id": "2ff59d78-74c2-4379-995b-02eef0a886d0",
   "metadata": {},
   "outputs": [
    {
     "name": "stdout",
     "output_type": "stream",
     "text": [
      "[1, 2, 'three', 5.7, True]\n",
      "[1, 2]\n"
     ]
    }
   ],
   "source": [
    "print(my_list)\n",
    "print(my_list[0:2])"
   ]
  },
  {
   "cell_type": "markdown",
   "id": "d4e8c8e9-33fe-4a1d-b0a9-071a83dc943b",
   "metadata": {},
   "source": [
    "As with the `range` function, index ranges include the beginning but not the end. Lastly, you can index fron the nth element until the end or from the beginning until the last element like:"
   ]
  },
  {
   "cell_type": "code",
   "execution_count": 50,
   "id": "ad29e0eb-2ee6-4cc4-a7a4-2d82c652e8a8",
   "metadata": {},
   "outputs": [
    {
     "name": "stdout",
     "output_type": "stream",
     "text": [
      "[1, 2, 'three', 5.7]\n",
      "[5.7, True]\n"
     ]
    }
   ],
   "source": [
    "print(my_list[:4])  # Up to the 4th element, identical to my_list[0:4]\n",
    "print(my_list[3:])  # From the 3rd element onwards, identical to my_list[3:-1]"
   ]
  },
  {
   "cell_type": "code",
   "execution_count": null,
   "id": "5fe49aaf-4d48-44db-8e13-285b8ae2dc8c",
   "metadata": {},
   "outputs": [],
   "source": []
  }
 ],
 "metadata": {
  "kernelspec": {
   "display_name": "Python 3 (ipykernel)",
   "language": "python",
   "name": "python3"
  },
  "language_info": {
   "codemirror_mode": {
    "name": "ipython",
    "version": 3
   },
   "file_extension": ".py",
   "mimetype": "text/x-python",
   "name": "python",
   "nbconvert_exporter": "python",
   "pygments_lexer": "ipython3",
   "version": "3.9.12"
  }
 },
 "nbformat": 4,
 "nbformat_minor": 5
}
