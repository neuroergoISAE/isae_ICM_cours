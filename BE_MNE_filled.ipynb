{
 "cells": [
  {
   "cell_type": "markdown",
   "id": "442458e4-dc7b-4de3-87ef-f6ad509f5cb1",
   "metadata": {},
   "source": [
    "<h1 class=\"text-center\">EEG data analysis with MNE (+ Python and Pandas introduction)</h1>\n",
    "<h2 class=\"text-center\">February, 2022</h2>\n",
    "\n",
    "<br>\n",
    "\n",
    "The purpose of this tutorial is to go over the data analysis steps you previously performed using the EEGLab program, but this time using the MNE python library. Also, this tutorial will serve as an introduction to basic Python concepts and the library Pandas, that will be used in future tutorials.\n",
    "</b></div>\n",
    "\n",
    "- In Section I, we will go over basic python structures such as lists, dictionaries, functions and classes\n",
    "- In Section II, we will introduce MNE and explain the main objects used to analyze EEG data (Raw, Epochs, etc.)\n",
    "- In Section III, we will describe the process to analyze the 'Rest vs Count down experiment' data\n",
    "- In Section IV, the 'Oddball task' data will be analyzed\n",
    "- The last section (V) explores more comfortable stimulation for SSVEP-based BCI (lower amplitude)\n",
    "\n",
    "The code must be completed after each **Question** to work, where \"HERE\" appears as a comment in the code. The parameters that do not change the course of the story are accompanied \"EDIT ME!\" as a comment: you can change them at the time or at the end of the section to see the changes involved."
   ]
  }
 ],
 "metadata": {
  "kernelspec": {
   "display_name": "Python 3 (ipykernel)",
   "language": "python",
   "name": "python3"
  },
  "language_info": {
   "codemirror_mode": {
    "name": "ipython",
    "version": 3
   },
   "file_extension": ".py",
   "mimetype": "text/x-python",
   "name": "python",
   "nbconvert_exporter": "python",
   "pygments_lexer": "ipython3",
   "version": "3.9.12"
  }
 },
 "nbformat": 4,
 "nbformat_minor": 5
}
