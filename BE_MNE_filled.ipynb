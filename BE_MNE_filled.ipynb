{
 "cells": [
  {
   "cell_type": "markdown",
   "id": "442458e4-dc7b-4de3-87ef-f6ad509f5cb1",
   "metadata": {},
   "source": [
    "<h1 class=\"text-center\">EEG data analysis with MNE (+ Python and Pandas introduction)</h1>\n",
    "<h2 class=\"text-center\">January, 2022</h2>\n",
    "\n",
    "<br>\n",
    "\n",
    "The purpose of this tutorial is to go over the data analysis steps you previously performed using the EEGLab program, but this time using the MNE python library. Also, this tutorial will serve as an introduction to basic Python concepts and the library Pandas, that will be used in future tutorials.\n",
    "</b></div>\n",
    "\n",
    "- In Section I, we will go over basic python structures such as lists, dictionaries, functions and classes\n",
    "- In Section II, we will introduce MNE and explain the main objects used to analyze EEG data (Raw, Epochs, etc.)\n",
    "- In Section III, we will describe the process to analyze the **Rest vs Count down** experiment data\n",
    "- 📜 Evaluation : in Section IV, the **Oddball task** data will be analyzed. You Python code of pre-processing pipeline will be evaluated, along a short explanation (1 page maximum) of your choices for the different steps.\n",
    "\n",
    "The code must be completed after each **Question** to work, where \"HERE\" appears as a comment in the code. The parameters that do not change the course of the story are accompanied \"EDIT ME!\" as a comment: you can change them at the time or at the end of the section to see the changes involved."
   ]
  },
  {
   "cell_type": "markdown",
   "id": "8f9c6ff9-a1a1-4e56-be8b-656c6b5fdc8a",
   "metadata": {},
   "source": [
    "# I - Python basics to get started\n",
    "First of all, we will go over the basics needed for python and jupyter notebooks so you can follow and complete the course going ahead. In order to execute the code you will see in the notebooks, click on a cell (like the one below) and press `Ctrl + Enter` to execute it. For those not on Windows, keep in mind the following:\n",
    "\n",
    "- `Ctrl`: Command key `⌘`\n",
    "- `Shift`: Shift `⇧`\n",
    "- `Alt`: Option key `⌥`"
   ]
  },
  {
   "cell_type": "code",
   "execution_count": 1,
   "id": "3588165c-8ddd-47e6-9777-1166b5cd82b1",
   "metadata": {},
   "outputs": [
    {
     "name": "stdout",
     "output_type": "stream",
     "text": [
      "Cell executed correctly\n"
     ]
    }
   ],
   "source": [
    "print(\"Cell executed correctly\")"
   ]
  },
  {
   "cell_type": "markdown",
   "id": "cf633e74-145a-4b4b-8f1a-20d342fdc9c2",
   "metadata": {},
   "source": [
    "You can also use `Shift + Enter` to execute the cell and move to the next one (if there is no cell below, it will insert a new one), and `Alt + Enter` to execute the current cell and insert a new one just below (even if there are cells after the one you run)."
   ]
  },
  {
   "cell_type": "code",
   "execution_count": 2,
   "id": "f334b855-cc8d-467e-a9d2-010a4cb4d82b",
   "metadata": {},
   "outputs": [
    {
     "name": "stdout",
     "output_type": "stream",
     "text": [
      "Run me with Shift + Enter to go to the cell below\n"
     ]
    }
   ],
   "source": [
    "print(\"Run me with Shift + Enter to go to the cell below\")"
   ]
  },
  {
   "cell_type": "code",
   "execution_count": 3,
   "id": "cbec7ceb-1273-4b0d-8aa7-e04191426871",
   "metadata": {},
   "outputs": [
    {
     "name": "stdout",
     "output_type": "stream",
     "text": [
      "Run me with Alt + Enter to insert a new cell below, and print something there!\n"
     ]
    }
   ],
   "source": [
    "print(\"Run me with Alt + Enter to insert a new cell below, and print something there!\")"
   ]
  },
  {
   "cell_type": "markdown",
   "id": "03f3d5e9-bd57-4aee-b8c8-d9316058177a",
   "metadata": {},
   "source": [
    "A code cell will execute all the code inside it, and all the variables will be stored for the rest of the notebook. Be careful! Variables will stay in memory even if you delete the cell.\n",
    "\n",
    "Let us see an example of code using multiple cells:"
   ]
  },
  {
   "cell_type": "code",
   "execution_count": 4,
   "id": "e0ad364b-d190-497f-8e5b-7f61c05b940f",
   "metadata": {},
   "outputs": [],
   "source": [
    "# Let's find out the number of seconds in a day\n",
    "n_hours = 24\n",
    "n_min = 60  # Minutes per hour\n",
    "\n",
    "min_day = n_hours * n_min"
   ]
  },
  {
   "cell_type": "code",
   "execution_count": 5,
   "id": "5cd9c5ee-2c9d-4c88-9f9b-81d00017cfcd",
   "metadata": {},
   "outputs": [
    {
     "name": "stdout",
     "output_type": "stream",
     "text": [
      "The number of seconds in a day is 86400\n"
     ]
    }
   ],
   "source": [
    "n_seconds = 60  # Seconds in a minute\n",
    "sec_day = min_day * n_seconds\n",
    "\n",
    "print(f'The number of seconds in a day is {sec_day}')"
   ]
  },
  {
   "cell_type": "markdown",
   "id": "7e3a8e98-9948-4efc-b85e-9228b4cdd9f5",
   "metadata": {},
   "source": [
    "We can assign values to variables using the `=` operator. A variable is just a name we give to a particular value, you can imagine it as a box you put a certain value into, and on which you write a name with a black marker. The following code block contains two operations. First, we assign the value 2 to the name `x`. After that `x` will hold the value 2. You might say Python stored the value 2 in `x`. Finally we print the value using the `print()` command. "
   ]
  },
  {
   "cell_type": "code",
   "execution_count": 6,
   "id": "e8fa63c8-1a40-4a84-a944-90a60acecd48",
   "metadata": {},
   "outputs": [
    {
     "name": "stdout",
     "output_type": "stream",
     "text": [
      "2\n"
     ]
    }
   ],
   "source": [
    "x = 2 \n",
    "print(x)"
   ]
  },
  {
   "cell_type": "markdown",
   "id": "d5458547-99f2-457e-80e2-7aebd105e98f",
   "metadata": {},
   "source": [
    "Now we stores the value '2' in `x`, and hence we can use it for operations like these:"
   ]
  },
  {
   "cell_type": "code",
   "execution_count": 7,
   "id": "f32e10da-1f8e-4695-ad82-eec3c53823c9",
   "metadata": {},
   "outputs": [
    {
     "name": "stdout",
     "output_type": "stream",
     "text": [
      "4\n",
      "True\n",
      "False\n"
     ]
    }
   ],
   "source": [
    "print(x * x)\n",
    "print(x == x)\n",
    "print(x > 6)"
   ]
  },
  {
   "cell_type": "markdown",
   "id": "affcbc36-311e-4807-8d9a-bc08a5fddd21",
   "metadata": {},
   "source": [
    "Let's explain these a bit:\n",
    "- In the first case, we are taking our value and multiplying it by itself\n",
    "- In the second case, we are using the double equal `==` operator. Contrary to `=`, that assigns the value on the right to the variable on the left, the `==` symbol checks whether the two values are equal or not, and always returns `True` or `False`. Theew is also the operator `!=`, which returns True when the compared elements are not equal\n",
    "- Finally, the third case used the `>` operator, which returns true when the value on the left is higher than the value on the right. Other related operators are `<`, `>=`, and `<=`"
   ]
  },
  {
   "cell_type": "markdown",
   "id": "5a99ef59-a59e-4949-8087-d56b47774d84",
   "metadata": {},
   "source": [
    "Of course, variables are not limited to integers, we can do strings (text) like the following:"
   ]
  },
  {
   "cell_type": "code",
   "execution_count": 8,
   "id": "a23fcf74-db16-4b9d-bb0e-2147759a14f2",
   "metadata": {},
   "outputs": [
    {
     "name": "stdout",
     "output_type": "stream",
     "text": [
      "Radiant Words\n"
     ]
    }
   ],
   "source": [
    "book = \"Radiant Words\"\n",
    "print(book)"
   ]
  },
  {
   "cell_type": "markdown",
   "id": "32d4ed90-15ee-415a-b7be-09aa1f93bf36",
   "metadata": {},
   "source": [
    "Although we can give our variables any name we want, it is better to use descriptive names that are easy to understand by other people (Note: your future self looking at the code six months from now also counts as other people). Although extreme, not leveraging the power of clean variable names could have some devastating effects on the readability of your code."
   ]
  },
  {
   "cell_type": "code",
   "execution_count": 9,
   "id": "6abf4934-b1b8-4c8e-817d-0132cc8ce33e",
   "metadata": {},
   "outputs": [
    {
     "name": "stdout",
     "output_type": "stream",
     "text": [
      "True\n",
      "True\n"
     ]
    }
   ],
   "source": [
    "a = 2\n",
    "aa = 5\n",
    "aaa = 10\n",
    "aaaa = 1\n",
    "\n",
    "print(aa > aaaa)\n",
    "print(a <= aaa)"
   ]
  },
  {
   "cell_type": "markdown",
   "id": "b805fc39-df69-49d6-88bf-74fb9698af34",
   "metadata": {},
   "source": [
    "You can also update variables:"
   ]
  },
  {
   "cell_type": "code",
   "execution_count": 10,
   "id": "16a4295b-693f-4bfe-8d88-1884cdb027db",
   "metadata": {},
   "outputs": [
    {
     "name": "stdout",
     "output_type": "stream",
     "text": [
      "1001\n"
     ]
    }
   ],
   "source": [
    "n_books = 1000\n",
    "n_books = n_books + 1\n",
    "print(n_books)"
   ]
  },
  {
   "cell_type": "markdown",
   "id": "d27c5edb-875f-45b1-a7fd-316e55e0bdd4",
   "metadata": {},
   "source": [
    "This is equivalent to:"
   ]
  },
  {
   "cell_type": "code",
   "execution_count": 11,
   "id": "5535ca79-255d-4b0c-a889-b34ce7865a01",
   "metadata": {},
   "outputs": [
    {
     "name": "stdout",
     "output_type": "stream",
     "text": [
      "1001\n"
     ]
    }
   ],
   "source": [
    "n_books = 1000\n",
    "n_books += 1\n",
    "print(n_books)"
   ]
  },
  {
   "cell_type": "markdown",
   "id": "7eee1f46-8662-40f0-84cb-59f9b7e15c7e",
   "metadata": {},
   "source": [
    "## Lists and Dictionaries\n",
    "\n",
    "We will now go over two of the most important data structures in Python: lists and dictionaries. These are used to store different variables using the structure that better serves our purpose:\n",
    "\n",
    "- Lists keep the variables in the order we add them to the list, and are indexed by position\n",
    "- Dictionaries do not keep an order, as they are indexed by a \"key\", similar to how real dictionaries are ordered by words that contain definitions\n",
    "\n",
    "We will start with lists. A list is created with square brackets `[ ]` and can contain any type of variable:"
   ]
  },
  {
   "cell_type": "code",
   "execution_count": 12,
   "id": "dc699037-9291-4d05-b70d-3d320a1f888e",
   "metadata": {},
   "outputs": [
    {
     "name": "stdout",
     "output_type": "stream",
     "text": [
      "[1, 2, 'three', 5.7, True]\n"
     ]
    }
   ],
   "source": [
    "my_list = [1, 2, \"three\", 5.7, True]\n",
    "print(my_list)"
   ]
  },
  {
   "cell_type": "markdown",
   "id": "8771712f-8cf6-423a-a392-fbb11c971559",
   "metadata": {},
   "source": [
    "To recover elements of the list, we use the index or position. For example, if we want to print the first element of the list:"
   ]
  },
  {
   "cell_type": "code",
   "execution_count": 13,
   "id": "88c7a7a1-7dc0-453b-9bd9-a193baf16dbb",
   "metadata": {},
   "outputs": [
    {
     "name": "stdout",
     "output_type": "stream",
     "text": [
      "1\n"
     ]
    }
   ],
   "source": [
    "print(my_list[0])"
   ]
  },
  {
   "cell_type": "markdown",
   "id": "919aa0eb-049c-4f0c-8531-de0f89a6a5ee",
   "metadata": {},
   "source": [
    "In Python, the first index of any element is always 0. You need to keep in mind the length of the list, as you will get an error if you try to index beyond the length of the list."
   ]
  },
  {
   "cell_type": "code",
   "execution_count": 14,
   "id": "54fbef71-39ab-4be4-9bfa-7a9e858d1f57",
   "metadata": {},
   "outputs": [
    {
     "ename": "IndexError",
     "evalue": "list index out of range",
     "output_type": "error",
     "traceback": [
      "\u001b[0;31m---------------------------------------------------------------------------\u001b[0m",
      "\u001b[0;31mIndexError\u001b[0m                                Traceback (most recent call last)",
      "Input \u001b[0;32mIn [14]\u001b[0m, in \u001b[0;36m<cell line: 1>\u001b[0;34m()\u001b[0m\n\u001b[0;32m----> 1\u001b[0m \u001b[38;5;28mprint\u001b[39m(\u001b[43mmy_list\u001b[49m\u001b[43m[\u001b[49m\u001b[38;5;241;43m20\u001b[39;49m\u001b[43m]\u001b[49m)\n",
      "\u001b[0;31mIndexError\u001b[0m: list index out of range"
     ]
    }
   ],
   "source": [
    "print(my_list[20])"
   ]
  },
  {
   "cell_type": "markdown",
   "id": "015519cb-d93f-478d-9f20-80ee1274461a",
   "metadata": {},
   "source": [
    "Usually, lists are iterated over using a for loop, and the iterator used is a range of numbers generated over the length of the list, like this:"
   ]
  },
  {
   "cell_type": "code",
   "execution_count": 15,
   "id": "665d75da-ac71-4d40-8d2b-6d1e361fc085",
   "metadata": {},
   "outputs": [
    {
     "name": "stdout",
     "output_type": "stream",
     "text": [
      "1\n",
      "2\n",
      "three\n",
      "5.7\n",
      "True\n"
     ]
    }
   ],
   "source": [
    "for idx in range(len(my_list)):\n",
    "    print(my_list[idx])"
   ]
  },
  {
   "cell_type": "markdown",
   "id": "2553c771-d4c9-4f56-81dd-6a7ad66aa099",
   "metadata": {},
   "source": [
    "The `len()` function returns the number of elements on a list, while the `range()` function takes a number and generates a list of numbers from 0 to the number - 1. This is a good time to tell you that you can check how any function works by running a code cell with the function name followed by `?`:"
   ]
  },
  {
   "cell_type": "code",
   "execution_count": 16,
   "id": "ebe5570d-aee7-4243-bb96-55e79621be7b",
   "metadata": {},
   "outputs": [
    {
     "data": {
      "text/plain": [
       "\u001b[0;31mInit signature:\u001b[0m \u001b[0mrange\u001b[0m\u001b[0;34m(\u001b[0m\u001b[0mself\u001b[0m\u001b[0;34m,\u001b[0m \u001b[0;34m/\u001b[0m\u001b[0;34m,\u001b[0m \u001b[0;34m*\u001b[0m\u001b[0margs\u001b[0m\u001b[0;34m,\u001b[0m \u001b[0;34m**\u001b[0m\u001b[0mkwargs\u001b[0m\u001b[0;34m)\u001b[0m\u001b[0;34m\u001b[0m\u001b[0;34m\u001b[0m\u001b[0m\n",
       "\u001b[0;31mDocstring:\u001b[0m     \n",
       "range(stop) -> range object\n",
       "range(start, stop[, step]) -> range object\n",
       "\n",
       "Return an object that produces a sequence of integers from start (inclusive)\n",
       "to stop (exclusive) by step.  range(i, j) produces i, i+1, i+2, ..., j-1.\n",
       "start defaults to 0, and stop is omitted!  range(4) produces 0, 1, 2, 3.\n",
       "These are exactly the valid indices for a list of 4 elements.\n",
       "When step is given, it specifies the increment (or decrement).\n",
       "\u001b[0;31mType:\u001b[0m           type\n",
       "\u001b[0;31mSubclasses:\u001b[0m     \n"
      ]
     },
     "metadata": {},
     "output_type": "display_data"
    }
   ],
   "source": [
    "range?"
   ]
  },
  {
   "cell_type": "code",
   "execution_count": 17,
   "id": "1164a147-7544-4e21-9d80-ba66335b3ea1",
   "metadata": {},
   "outputs": [
    {
     "data": {
      "text/plain": [
       "\u001b[0;31mSignature:\u001b[0m \u001b[0mlen\u001b[0m\u001b[0;34m(\u001b[0m\u001b[0mobj\u001b[0m\u001b[0;34m,\u001b[0m \u001b[0;34m/\u001b[0m\u001b[0;34m)\u001b[0m\u001b[0;34m\u001b[0m\u001b[0;34m\u001b[0m\u001b[0m\n",
       "\u001b[0;31mDocstring:\u001b[0m Return the number of items in a container.\n",
       "\u001b[0;31mType:\u001b[0m      builtin_function_or_method\n"
      ]
     },
     "metadata": {},
     "output_type": "display_data"
    }
   ],
   "source": [
    "len?"
   ]
  },
  {
   "cell_type": "markdown",
   "id": "29277924-c3cd-4eb4-bd3c-70b59c555646",
   "metadata": {},
   "source": [
    "Whenever you encounter a function and you are unsure of how it works, check the documentation! This will be very valuable going forward. According to the documentation on `range()`, we can choose the starting and stopping point of the sequence, and even the step!"
   ]
  },
  {
   "cell_type": "code",
   "execution_count": 18,
   "id": "2bfe52e7-625c-4de4-a45b-17a6b786c9b8",
   "metadata": {},
   "outputs": [
    {
     "name": "stdout",
     "output_type": "stream",
     "text": [
      "10\n",
      "11\n",
      "12\n",
      "13\n",
      "14\n"
     ]
    }
   ],
   "source": [
    "for i in range(10, 15):  # (start, stop)\n",
    "    print(i)"
   ]
  },
  {
   "cell_type": "code",
   "execution_count": 19,
   "id": "39f1980d-10d8-4ad3-85c0-8b24a0aed91e",
   "metadata": {},
   "outputs": [
    {
     "name": "stdout",
     "output_type": "stream",
     "text": [
      "10\n",
      "12\n",
      "14\n",
      "16\n",
      "18\n",
      "20\n",
      "22\n",
      "24\n",
      "26\n",
      "28\n",
      "30\n"
     ]
    }
   ],
   "source": [
    "for i in range(10, 31, 2):  # (start, stop, step)\n",
    "    print(i)"
   ]
  },
  {
   "cell_type": "markdown",
   "id": "97779480-b16b-412c-ac12-b01503199182",
   "metadata": {},
   "source": [
    "You can also index using negative numbers to start from the end "
   ]
  },
  {
   "cell_type": "code",
   "execution_count": 20,
   "id": "03b7cd58-a333-40a9-8438-34e086c8b89f",
   "metadata": {},
   "outputs": [
    {
     "name": "stdout",
     "output_type": "stream",
     "text": [
      "5.7\n"
     ]
    }
   ],
   "source": [
    "print(my_list[-2])"
   ]
  },
  {
   "cell_type": "markdown",
   "id": "812a9c6f-b6ee-4857-bea4-7cbe0fe678b3",
   "metadata": {},
   "source": [
    "Could you iterate the list in reverse? Try it out! Also, we can index several elements at once by using a range of indexes separared by `:`"
   ]
  },
  {
   "cell_type": "code",
   "execution_count": 21,
   "id": "2ff59d78-74c2-4379-995b-02eef0a886d0",
   "metadata": {},
   "outputs": [
    {
     "name": "stdout",
     "output_type": "stream",
     "text": [
      "[1, 2, 'three', 5.7, True]\n",
      "[1, 2]\n"
     ]
    }
   ],
   "source": [
    "print(my_list)\n",
    "print(my_list[0:2])"
   ]
  },
  {
   "cell_type": "markdown",
   "id": "d4e8c8e9-33fe-4a1d-b0a9-071a83dc943b",
   "metadata": {},
   "source": [
    "As with the `range` function, index ranges include the beginning but not the end. Lastly, you can index fron the nth element until the end or from the beginning until the last element like:"
   ]
  },
  {
   "cell_type": "code",
   "execution_count": 22,
   "id": "ad29e0eb-2ee6-4cc4-a7a4-2d82c652e8a8",
   "metadata": {},
   "outputs": [
    {
     "name": "stdout",
     "output_type": "stream",
     "text": [
      "[1, 2, 'three', 5.7]\n",
      "[5.7, True]\n"
     ]
    }
   ],
   "source": [
    "print(my_list[:4])  # Up to the 4th element, identical to my_list[0:4]\n",
    "print(my_list[3:])  # From the 3rd element onwards, identical to my_list[3:-1]"
   ]
  },
  {
   "cell_type": "markdown",
   "id": "11d451e5-ee29-4a3b-b35f-1af05f608188",
   "metadata": {},
   "source": [
    "Now we will finish by explaining dictionaries and their uses. Dictionaries are created using the curly brackets `{}` and always follow a `{key: value}` structure:"
   ]
  },
  {
   "cell_type": "code",
   "execution_count": 23,
   "id": "7496fb7f-5d4a-43dc-b10d-93e287255050",
   "metadata": {},
   "outputs": [],
   "source": [
    "my_dict = {'books': ['The Way of Kings', 'The Final Empire', 'Warbreaker'],\n",
    "           'ratings': [10, 9, 8.5]}"
   ]
  },
  {
   "cell_type": "markdown",
   "id": "8278b02d-5cf6-474a-9e2e-07c1c51ed7c4",
   "metadata": {},
   "source": [
    "The keys and values can be any type of variable we want, in this case we are using strings for the keys as it is more intuitive, but we could, for example, have a dictionary where the labels of our data observations are the keys, and the values correspond to the text labels. Imagine the classic 'dogs vs. cats' neural network, we could have our labels as:"
   ]
  },
  {
   "cell_type": "code",
   "execution_count": 24,
   "id": "3320aab2-bca7-4457-a7d9-e6c74e439d5a",
   "metadata": {},
   "outputs": [],
   "source": [
    "label_id = {0: 'dog', \n",
    "            1: 'cat'}"
   ]
  },
  {
   "cell_type": "markdown",
   "id": "40446582-2aff-4430-bcce-9908ff59e29f",
   "metadata": {},
   "source": [
    "That way, we can work with numerical labels and have an easy way of looking up their real meaning at any time. But how do we access dictionaries? Contrary to lists, that are accessed by position, dictionaries are accessed by key:"
   ]
  },
  {
   "cell_type": "code",
   "execution_count": 25,
   "id": "9e47dafc-4b4a-4210-a02b-f1bb6e69af22",
   "metadata": {},
   "outputs": [
    {
     "name": "stdout",
     "output_type": "stream",
     "text": [
      "dog\n",
      "['The Way of Kings', 'The Final Empire', 'Warbreaker']\n"
     ]
    }
   ],
   "source": [
    "print(label_id[0])\n",
    "print(my_dict['books'])"
   ]
  },
  {
   "cell_type": "markdown",
   "id": "afa8d24c-41d6-4b2f-99f7-0b41fe63f394",
   "metadata": {},
   "source": [
    "If we try to access a key that does not exist, we will get an error:"
   ]
  },
  {
   "cell_type": "code",
   "execution_count": 26,
   "id": "79846f71-000a-443b-bc54-02972e437368",
   "metadata": {},
   "outputs": [
    {
     "ename": "KeyError",
     "evalue": "'n_pages'",
     "output_type": "error",
     "traceback": [
      "\u001b[0;31m---------------------------------------------------------------------------\u001b[0m",
      "\u001b[0;31mKeyError\u001b[0m                                  Traceback (most recent call last)",
      "Input \u001b[0;32mIn [26]\u001b[0m, in \u001b[0;36m<cell line: 1>\u001b[0;34m()\u001b[0m\n\u001b[0;32m----> 1\u001b[0m \u001b[43mmy_dict\u001b[49m\u001b[43m[\u001b[49m\u001b[38;5;124;43m'\u001b[39;49m\u001b[38;5;124;43mn_pages\u001b[39;49m\u001b[38;5;124;43m'\u001b[39;49m\u001b[43m]\u001b[49m\n",
      "\u001b[0;31mKeyError\u001b[0m: 'n_pages'"
     ]
    }
   ],
   "source": [
    "my_dict['n_pages']"
   ]
  },
  {
   "cell_type": "markdown",
   "id": "e85e5100-7059-45b5-8c04-a1e92d1bb900",
   "metadata": {},
   "source": [
    "However, we can assign a value to a key that does not exist in order to create it"
   ]
  },
  {
   "cell_type": "code",
   "execution_count": 27,
   "id": "6c7c2a4e-54f4-4cdd-b29e-854e1fe6ed21",
   "metadata": {},
   "outputs": [
    {
     "name": "stdout",
     "output_type": "stream",
     "text": [
      "[1007, 541, 592]\n"
     ]
    }
   ],
   "source": [
    "my_dict['n_pages'] = [1007, 541, 592]\n",
    "print(my_dict['n_pages'])"
   ]
  },
  {
   "cell_type": "markdown",
   "id": "1ac80e09-35fb-4bc7-8f7a-c272d4b584ba",
   "metadata": {},
   "source": [
    "As for iterating, if you use a dictionary by itself, the iterator will be the keys of the dictionary. You can also iterate the values directly by using `dict.values()` and get both keys and values as tuples with `dict.items()`"
   ]
  },
  {
   "cell_type": "code",
   "execution_count": 28,
   "id": "c314c5ea-1a78-445e-ad13-38293e0f1e5d",
   "metadata": {},
   "outputs": [
    {
     "name": "stdout",
     "output_type": "stream",
     "text": [
      "books is something we are keeping track of in this dict\n",
      "  The values for the entry books are ['The Way of Kings', 'The Final Empire', 'Warbreaker']\n",
      "\n",
      "ratings is something we are keeping track of in this dict\n",
      "  The values for the entry ratings are [10, 9, 8.5]\n",
      "\n",
      "n_pages is something we are keeping track of in this dict\n",
      "  The values for the entry n_pages are [1007, 541, 592]\n",
      "\n",
      "Something in our dict has the value ['The Way of Kings', 'The Final Empire', 'Warbreaker'], but we don't really know what\n",
      "Something in our dict has the value [10, 9, 8.5], but we don't really know what\n",
      "Something in our dict has the value [1007, 541, 592], but we don't really know what\n",
      "\n",
      "We know we have the key books, and its value is ['The Way of Kings', 'The Final Empire', 'Warbreaker']. This looks similar to what we did before...\n",
      "\n",
      "We know we have the key ratings, and its value is [10, 9, 8.5]. This looks similar to what we did before...\n",
      "\n",
      "We know we have the key n_pages, and its value is [1007, 541, 592]. This looks similar to what we did before...\n",
      "\n"
     ]
    }
   ],
   "source": [
    "# Iterate keys\n",
    "for key in my_dict:\n",
    "    print(f'{key} is something we are keeping track of in this dict')\n",
    "    print(f'  The values for the entry {key} are {my_dict[key]}')\n",
    "    print()\n",
    "\n",
    "# Iterate values\n",
    "for val in my_dict.values():\n",
    "    print(f\"Something in our dict has the value {val}, but we don't really know what\")\n",
    "    \n",
    "print()\n",
    "\n",
    "# Iterate both keys and values\n",
    "for key, val in my_dict.items():\n",
    "    print(f'We know we have the key {key}, and its value is {val}. This looks similar to what we did before...')\n",
    "    print()"
   ]
  },
  {
   "cell_type": "markdown",
   "id": "ee486921-0a29-4659-b963-ceb8f03d395f",
   "metadata": {},
   "source": [
    "Most of the time, iteraring by keys is what makes the most sense, as you can access the values by using `my_dict[key]` if you need so. Iterating by key and value pairs has uses as well, but iterating over values only is much more uncommon and defeats the purpose of using dictionaries in the first place"
   ]
  },
  {
   "cell_type": "markdown",
   "id": "06e7a011-ddfb-49ef-bd75-110d450550fc",
   "metadata": {},
   "source": [
    "Most of the EEG data we will process during this course will be stored on high-level objects, but the big majority of the information is stored in list or dictionaries, so with that knowledge you will surely be able to manipulate all the necessary information for completing this and the following practical sessions."
   ]
  },
  {
   "cell_type": "markdown",
   "id": "9e37fe18-5510-4ac2-9914-925af95aa90f",
   "metadata": {},
   "source": [
    "# II - The basics of MNE"
   ]
  },
  {
   "cell_type": "markdown",
   "id": "dca69d99-c60b-4013-8e3e-8c6c302b0c3b",
   "metadata": {},
   "source": [
    "With the basics of Python covered, we will now move on to a short summary of the actions that we will use the most for the remainder of the course, and then move on to the actual analyses of the data you already performed using EEGLab. We will cover:\n",
    "\n",
    "- How to load data\n",
    "- The raw object and relevant methods / attributes\n",
    "- Basic pre-processing steps\n",
    "- Event extraction and manipulation\n",
    "- Epoching data and how to work with the Epochs object\n",
    "\n",
    "Our basic summary is inspired from the MNE documentation. You can find tutorials and examples for a wide range of different analysis and signal processing techniques [here](https://mne.tools/stable/auto_tutorials/intro/10_overview.html#sphx-glr-auto-tutorials-intro-10-overview-py). We will start by importing the libraries we are going to need."
   ]
  },
  {
   "cell_type": "code",
   "execution_count": 29,
   "id": "76f831f9-b8a5-4391-a877-41514ccf1c88",
   "metadata": {},
   "outputs": [],
   "source": [
    "import os\n",
    "\n",
    "import mne\n",
    "import numpy as np"
   ]
  },
  {
   "cell_type": "markdown",
   "id": "8d17be92-0886-404f-ae49-c6a0faac51f5",
   "metadata": {},
   "source": [
    "## Loading Data\n",
    "First of all, we will learn how to load our data. MNE supports many common file extensions for EEG and MEG data (you can read more about the details in the [MNE I/O documentation](https://mne.tools/0.16/manual/io.html). Since you have been working with EEGLab data, we will load the an example .set file using the `read_raw_eeglab()` function. "
   ]
  },
  {
   "cell_type": "code",
   "execution_count": 30,
   "id": "f40c6380-9440-4455-8c1e-8a30bec3a31f",
   "metadata": {},
   "outputs": [
    {
     "name": "stdout",
     "output_type": "stream",
     "text": [
      "Reading /home/dcas/l.darmet/isae_ICM_cours/data/mne_tuto/example_data.fdt\n",
      "Reading 0 ... 143272  =      0.000 ...   286.544 secs...\n"
     ]
    },
    {
     "name": "stderr",
     "output_type": "stream",
     "text": [
      "/tmp/ipykernel_99865/3402409392.py:4: RuntimeWarning: Data file name in EEG.data (P1_low_100.fdt) is incorrect, the file name must have changed on disk, using the correct file name (example_data.fdt).\n",
      "  raw = mne.io.read_raw_eeglab(data_path, preload=True)\n"
     ]
    }
   ],
   "source": [
    "notebook_path = os.getcwd()\n",
    "data_path = os.path.join(notebook_path, 'data/mne_tuto/example_data.set')\n",
    "\n",
    "raw = mne.io.read_raw_eeglab(data_path, preload=True)"
   ]
  },
  {
   "cell_type": "markdown",
   "id": "13fbe2ba-e62e-4a09-b6bb-330e5219041d",
   "metadata": {},
   "source": [
    "And like that, we get our data in a `raw` object, one of MNE's core data structures. If you are curious about that `preload=True` argument, remind yourself of checking the function's signature!"
   ]
  },
  {
   "cell_type": "code",
   "execution_count": 31,
   "id": "d7930e5f-e861-4670-9d6a-b62a81ddc8f7",
   "metadata": {},
   "outputs": [
    {
     "data": {
      "text/plain": [
       "\u001b[0;31mSignature:\u001b[0m\n",
       "\u001b[0mmne\u001b[0m\u001b[0;34m.\u001b[0m\u001b[0mio\u001b[0m\u001b[0;34m.\u001b[0m\u001b[0mread_raw_eeglab\u001b[0m\u001b[0;34m(\u001b[0m\u001b[0;34m\u001b[0m\n",
       "\u001b[0;34m\u001b[0m    \u001b[0minput_fname\u001b[0m\u001b[0;34m,\u001b[0m\u001b[0;34m\u001b[0m\n",
       "\u001b[0;34m\u001b[0m    \u001b[0meog\u001b[0m\u001b[0;34m=\u001b[0m\u001b[0;34m(\u001b[0m\u001b[0;34m)\u001b[0m\u001b[0;34m,\u001b[0m\u001b[0;34m\u001b[0m\n",
       "\u001b[0;34m\u001b[0m    \u001b[0mpreload\u001b[0m\u001b[0;34m=\u001b[0m\u001b[0;32mFalse\u001b[0m\u001b[0;34m,\u001b[0m\u001b[0;34m\u001b[0m\n",
       "\u001b[0;34m\u001b[0m    \u001b[0muint16_codec\u001b[0m\u001b[0;34m=\u001b[0m\u001b[0;32mNone\u001b[0m\u001b[0;34m,\u001b[0m\u001b[0;34m\u001b[0m\n",
       "\u001b[0;34m\u001b[0m    \u001b[0mverbose\u001b[0m\u001b[0;34m=\u001b[0m\u001b[0;32mNone\u001b[0m\u001b[0;34m,\u001b[0m\u001b[0;34m\u001b[0m\n",
       "\u001b[0;34m\u001b[0m\u001b[0;34m)\u001b[0m\u001b[0;34m\u001b[0m\u001b[0;34m\u001b[0m\u001b[0m\n",
       "\u001b[0;31mDocstring:\u001b[0m\n",
       "Read an EEGLAB .set file.\n",
       "\n",
       "Parameters\n",
       "----------\n",
       "input_fname : str\n",
       "    Path to the .set file. If the data is stored in a separate .fdt file,\n",
       "    it is expected to be in the same folder as the .set file.\n",
       "eog : list | tuple | 'auto'\n",
       "    Names or indices of channels that should be designated EOG channels.\n",
       "    If 'auto', the channel names containing ``EOG`` or ``EYE`` are used.\n",
       "    Defaults to empty tuple.\n",
       "\n",
       "preload : bool or str (default False)\n",
       "    Preload data into memory for data manipulation and faster indexing.\n",
       "    If True, the data will be preloaded into memory (fast, requires\n",
       "    large amount of memory). If preload is a string, preload is the\n",
       "    file name of a memory-mapped file which is used to store the data\n",
       "    on the hard drive (slower, requires less memory).\n",
       "    Note that preload=False will be effective only if the data is stored\n",
       "    in a separate binary file.\n",
       "uint16_codec : str | None\n",
       "    If your \\*.set file contains non-ascii characters, sometimes reading\n",
       "    it may fail and give rise to error message stating that \"buffer is\n",
       "    too small\". ``uint16_codec`` allows to specify what codec (for example:\n",
       "    'latin1' or 'utf-8') should be used when reading character arrays and\n",
       "    can therefore help you solve this problem.\n",
       "\n",
       "verbose : bool | str | int | None\n",
       "    Control verbosity of the logging output. If ``None``, use the default\n",
       "    verbosity level. See the :ref:`logging documentation <tut-logging>` and\n",
       "    :func:`mne.verbose` for details. Should only be passed as a keyword\n",
       "    argument.\n",
       "\n",
       "Returns\n",
       "-------\n",
       "raw : instance of RawEEGLAB\n",
       "    A Raw object containing EEGLAB .set data.\n",
       "\n",
       "See Also\n",
       "--------\n",
       "mne.io.Raw : Documentation of attribute and methods.\n",
       "\n",
       "Notes\n",
       "-----\n",
       ".. versionadded:: 0.11.0\n",
       "\u001b[0;31mFile:\u001b[0m      /usr/local/lib/python3.8/dist-packages/mne/io/eeglab/eeglab.py\n",
       "\u001b[0;31mType:\u001b[0m      function\n"
      ]
     },
     "metadata": {},
     "output_type": "display_data"
    }
   ],
   "source": [
    "mne.io.read_raw_eeglab?"
   ]
  },
  {
   "cell_type": "markdown",
   "id": "2494d7b9-b84e-4473-8f47-5cc7e2e84e0e",
   "metadata": {},
   "source": [
    "## The Raw object\n",
    "\n",
    "We can get a summary of our `Raw` object by printing it! Also, we will take this chance to have a look at the raw's `info`. This a dictionary-like object that is preserved across data structures (e.g. when going from `Raw` to `Epochs`). This object contains all the relevant metadata of our file, with things like the channel names and the sampling frequency. Check [this page](https://mne.tools/stable/auto_tutorials/intro/30_info.html#tut-info-class) for a complete overview of the `info` data structure."
   ]
  },
  {
   "cell_type": "code",
   "execution_count": 32,
   "id": "3878a8a0-16f3-4945-9f18-05d2a5fa5709",
   "metadata": {},
   "outputs": [
    {
     "name": "stdout",
     "output_type": "stream",
     "text": [
      "<RawEEGLAB | example_data.fdt, 32 x 143273 (286.5 s), ~35.0 MB, data loaded>\n",
      "\n",
      "<Info | 8 non-empty values\n",
      " bads: []\n",
      " ch_names: Fp1, Fz, F3, F7, FT9, FC5, FC1, C3, T7, TP9, CP5, CP1, Pz, P3, ...\n",
      " chs: 32 EEG\n",
      " custom_ref_applied: False\n",
      " dig: 35 items (3 Cardinal, 32 EEG)\n",
      " highpass: 0.0 Hz\n",
      " lowpass: 250.0 Hz\n",
      " meas_date: unspecified\n",
      " nchan: 32\n",
      " projs: []\n",
      " sfreq: 500.0 Hz\n",
      ">\n"
     ]
    }
   ],
   "source": [
    "print(raw)\n",
    "print()\n",
    "print(raw.info)"
   ]
  },
  {
   "cell_type": "markdown",
   "id": "369ea27a-c1a2-4204-b12c-d6d1cf86df74",
   "metadata": {},
   "source": [
    "The `Raw` object has many built-in methods that are useful, we will show some of them next. You can check all those handy functions on the [Raw object's documentation page](https://mne.tools/stable/generated/mne.io.Raw.html#mne.io.Raw). This object sports numerous interesting functions that will allow you to inspect the data and perform any basic operation you will need during your EEG analyses. For example, you can plot the power spectral density (PSD) of your signal, or simply plot your data to have a look at the raw EEG signals."
   ]
  },
  {
   "cell_type": "code",
   "execution_count": 33,
   "id": "10bdb412-6822-409a-af3c-810dea0e4f74",
   "metadata": {},
   "outputs": [
    {
     "name": "stdout",
     "output_type": "stream",
     "text": [
      "NOTE: plot_psd() is a legacy function. New code should use .compute_psd().plot().\n",
      "Effective window size : 4.096 (s)\n"
     ]
    },
    {
     "name": "stderr",
     "output_type": "stream",
     "text": [
      "/usr/local/lib/python3.8/dist-packages/mne/viz/utils.py:137: UserWarning: Matplotlib is currently using module://matplotlib_inline.backend_inline, which is a non-GUI backend, so cannot show the figure.\n",
      "  (fig or plt).show(**kwargs)\n"
     ]
    },
    {
     "data": {
      "image/png": "[encoded data removed]",
      "text/plain": [
       "<MNELineFigure size 720x252 with 2 Axes>"
      ]
     },
     "execution_count": 33,
     "metadata": {},
     "output_type": "execute_result"
    },
    {
     "data": {
      "image/png": "[encoded data removed]",
      "text/plain": [
       "<MNELineFigure size 720x252 with 2 Axes>"
      ]
     },
     "metadata": {
      "needs_background": "light"
     },
     "output_type": "display_data"
    }
   ],
   "source": [
    "raw.plot_psd(fmax=50)"
   ]
  },
  {
   "cell_type": "markdown",
   "id": "eab96329-b6b8-49a7-8d34-38d944cd85fe",
   "metadata": {},
   "source": [
    "## Preprocessing\n",
    "\n",
    "Now we will move on to the first part of the analysis: the cleaning of the signal, otherwise known as preprocessing. Preprocessing steps are not set in stone, and different analyses will have different preprocessing pipelines, but we will go over some of the most basic steps, that are presents in most EEG data analyses. Those are:\n",
    "\n",
    "- Experimental event extraction\n",
    "- Re-referencing\n",
    "- Filtering (notch and band-pass)\n",
    "- Epochs"
   ]
  },
  {
   "cell_type": "markdown",
   "id": "ce2a7469-c31d-41d7-afc7-5d5fb8915c92",
   "metadata": {},
   "source": [
    "### Finding experimental events\n",
    "Usually, data is collected with stamps that indicate when in time different events were presented. There are two usual ways these events are included in the data:\n",
    "\n",
    "- There is a STIM channel along with the data channels\n",
    "- There is a separate annotation file with the event information\n",
    "\n",
    "The later case is what we will go over now. If you are curious about event extraction using a STIM channel, check the documentation on the [find events function](https://mne.tools/stable/generated/mne.find_events.html#mne.find_events)"
   ]
  },
  {
   "cell_type": "code",
   "execution_count": 34,
   "id": "d196acf7-965c-4072-b23a-f6e3aeaa0850",
   "metadata": {},
   "outputs": [
    {
     "name": "stdout",
     "output_type": "stream",
     "text": [
      "{'12.000000': 1, '14.000000': 2, '16.000000': 3, '18.000000': 4}\n",
      "[[  9981      0      1]\n",
      " [ 11830      0      4]\n",
      " [ 13680      0      3]\n",
      " [ 15530      0      2]\n",
      " [ 17949      0      2]\n",
      " [ 19799      0      4]\n",
      " [ 21649      0      1]\n",
      " [ 23499      0      3]\n",
      " [ 25813      0      4]\n",
      " [ 27662      0      2]\n",
      " [ 29512      0      3]\n",
      " [ 31362      0      1]\n",
      " [ 35409      0      1]\n",
      " [ 37259      0      2]\n",
      " [ 39109      0      4]\n",
      " [ 40959      0      3]\n",
      " [ 43397      0      1]\n",
      " [ 45247      0      3]\n",
      " [ 47097      0      2]\n",
      " [ 48947      0      4]\n",
      " [ 53933      0      3]\n",
      " [ 55783      0      1]\n",
      " [ 57633      0      2]\n",
      " [ 59483      0      4]\n",
      " [ 62429      0      3]\n",
      " [ 64278      0      2]\n",
      " [ 66128      0      1]\n",
      " [ 67978      0      4]\n",
      " [ 70701      0      1]\n",
      " [ 72550      0      3]\n",
      " [ 74400      0      4]\n",
      " [ 76250      0      2]\n",
      " [ 80133      0      3]\n",
      " [ 81983      0      1]\n",
      " [ 83833      0      2]\n",
      " [ 85683      0      4]\n",
      " [ 88997      0      3]\n",
      " [ 90847      0      4]\n",
      " [ 92697      0      2]\n",
      " [ 94547      0      1]\n",
      " [ 99937      0      4]\n",
      " [101786      0      2]\n",
      " [103637      0      3]\n",
      " [105487      0      1]\n",
      " [108277      0      4]\n",
      " [110127      0      1]\n",
      " [111977      0      2]\n",
      " [113827      0      3]\n",
      " [116717      0      2]\n",
      " [118567      0      1]\n",
      " [120417      0      4]\n",
      " [122267      0      3]\n",
      " [125049      0      1]\n",
      " [126899      0      3]\n",
      " [128749      0      4]\n",
      " [130599      0      2]\n",
      " [133913      0      3]\n",
      " [135763      0      4]\n",
      " [137613      0      2]\n",
      " [139463      0      1]]\n"
     ]
    }
   ],
   "source": [
    "# Extract the events and the event_id dict\n",
    "events, event_id = mne.events_from_annotations(raw, verbose=False)\n",
    "\n",
    "print(event_id)\n",
    "print(events)"
   ]
  },
  {
   "cell_type": "markdown",
   "id": "512e8ca3-b728-4144-a72e-806e61cd17c6",
   "metadata": {},
   "source": [
    "Here we can see that we obtain two structures: `events` and `event_id`. The first one contains the events themselves, with a 3-element list per event. The first element indicates the timestamp of the corresponding event, and the last one indicates the label (the middle one is usually ignored). The `event_id` is a dictionary that related the different labels with their corresponding text label, so we can easily keep track of thich label corresponds to which type of event.\n",
    " \n",
    "Now, you may have noticed that labels start with 1. When we use different prediction models, usually we treat our labels to start from 0, so we can quickly create a `labels` object and include this small correction."
   ]
  },
  {
   "cell_type": "code",
   "execution_count": 35,
   "id": "adec1190-77b2-4f93-8099-c655d7aa0ad9",
   "metadata": {},
   "outputs": [],
   "source": [
    "# Copy the events so further modifications do not affect out labels\n",
    "labels = events.copy()[:, -1]\n",
    "\n",
    "# Suctract 1 to each element of the array in order to start from 0\n",
    "labels -= 1"
   ]
  },
  {
   "cell_type": "markdown",
   "id": "8ccbca11-51f1-4f76-9e41-9c2405dc0728",
   "metadata": {},
   "source": [
    "### Re-referencing and filtering\n",
    "Our labels are ready for later use. Now we will start playing with the data itself. We can set an average reference with the `set_eeg_reference` function:"
   ]
  },
  {
   "cell_type": "code",
   "execution_count": 36,
   "id": "8b113d43-b148-4265-8ef5-0b74be497a0c",
   "metadata": {},
   "outputs": [
    {
     "data": {
      "text/html": [
       "<table class=\"table table-hover table-striped table-sm table-responsive small\">\n",
       "    <tr>\n",
       "        <th>Measurement date</th>\n",
       "        \n",
       "        <td>Unknown</td>\n",
       "        \n",
       "    </tr>\n",
       "    <tr>\n",
       "        <th>Experimenter</th>\n",
       "        \n",
       "        <td>Unknown</td>\n",
       "        \n",
       "    </tr>\n",
       "        <th>Participant</th>\n",
       "        \n",
       "        <td>Unknown</td>\n",
       "        \n",
       "    </tr>\n",
       "    <tr>\n",
       "        <th>Digitized points</th>\n",
       "        \n",
       "        <td>35 points</td>\n",
       "        \n",
       "    </tr>\n",
       "    <tr>\n",
       "        <th>Good channels</th>\n",
       "        <td>32 EEG</td>\n",
       "    </tr>\n",
       "    <tr>\n",
       "        <th>Bad channels</th>\n",
       "        <td>None</td>\n",
       "    </tr>\n",
       "    <tr>\n",
       "        <th>EOG channels</th>\n",
       "        <td>Not available</td>\n",
       "    </tr>\n",
       "    <tr>\n",
       "        <th>ECG channels</th>\n",
       "        <td>Not available</td>\n",
       "    \n",
       "    <tr>\n",
       "        <th>Sampling frequency</th>\n",
       "        <td>500.00 Hz</td>\n",
       "    </tr>\n",
       "    \n",
       "    \n",
       "    <tr>\n",
       "        <th>Highpass</th>\n",
       "        <td>0.00 Hz</td>\n",
       "    </tr>\n",
       "    \n",
       "    \n",
       "    <tr>\n",
       "        <th>Lowpass</th>\n",
       "        <td>250.00 Hz</td>\n",
       "    </tr>\n",
       "    \n",
       "    \n",
       "    \n",
       "    <tr>\n",
       "        <th>Filenames</th>\n",
       "        <td>example_data.fdt</td>\n",
       "    </tr>\n",
       "    \n",
       "    <tr>\n",
       "        <th>Duration</th>\n",
       "        <td>00:04:47 (HH:MM:SS)</td>\n",
       "    </tr>\n",
       "</table>"
      ],
      "text/plain": [
       "<RawEEGLAB | example_data.fdt, 32 x 143273 (286.5 s), ~35.0 MB, data loaded>"
      ]
     },
     "execution_count": 36,
     "metadata": {},
     "output_type": "execute_result"
    }
   ],
   "source": [
    "raw.set_eeg_reference('average', verbose=False)"
   ]
  },
  {
   "cell_type": "markdown",
   "id": "ce6e59a6-d160-47f7-853f-7f4449faa883",
   "metadata": {},
   "source": [
    "The same applies to filtering. We filter the data in order to exclude certain frequencies for the whole signal, for various reasons:\n",
    "\n",
    "- Band-pass filtering keeps only the signals with frequencies between the two numbers we indicate. This is used to narrow down the frequencies we are interested in for the analysis\n",
    "- Notch filtering, on the contraty, excludes a very narrow frequency from the signal. This type of filtering is often used to remove power-line artifacts that are caused by the electrical current of the equipment"
   ]
  },
  {
   "cell_type": "code",
   "execution_count": 37,
   "id": "de70440c-8cf5-4f79-9878-7e89d68b9ab6",
   "metadata": {},
   "outputs": [],
   "source": [
    "# We can filter, for example, between 1 and 60Hz. Removing frequencies below 1Hz gets rid of low-frequency drifting present on the signal\n",
    "raw = raw.filter(h_freq=60, l_freq=1, verbose=False)\n",
    "\n",
    "# As for the notch filtering, the main power-line artifact appears at 50Hz (60Hz in USA and other countries). We do not need to filter at the harmonics (i.e., 100Hz, 150Hz, etc.), because they are\n",
    "# excluded by our previous band-pass filter\n",
    "raw = raw.notch_filter(50, verbose=False)"
   ]
  },
  {
   "cell_type": "markdown",
   "id": "98e42107-0e4f-4d46-99af-40cca79bfae9",
   "metadata": {},
   "source": [
    "### Epoching\n",
    "\n",
    "Finally, we will divide our continuous data into windows centered around the experimental events. These windows are called epochs and they allow us to compare the signal on different instances of the same experimental events, (hopefully) to draw conclusions about the typical brain response to said events. We can epoch out data by transforming our `Raw` object into an `Epochs` object"
   ]
  },
  {
   "cell_type": "code",
   "execution_count": 38,
   "id": "1c3189f3-5d96-4733-90dc-d1859a2d858c",
   "metadata": {},
   "outputs": [],
   "source": [
    "epochs = mne.Epochs(raw, events, event_id=event_id,\n",
    "                    tmin=0, tmax=2, baseline=(0.2, 2),\n",
    "                    preload=True, verbose=False)"
   ]
  },
  {
   "cell_type": "markdown",
   "id": "40aec055-904a-418c-a6c1-0be93e362ad3",
   "metadata": {},
   "source": [
    "Let's go over some parameters of the `mne.Epochs` function. Epoch parameters can vary widely across different analyses, and you can check [the documentation](https://mne.tools/stable/generated/mne.Epochs.html#mne.Epochs) for a detailed explanation of all possible parameters.\n",
    "\n",
    "- `event_id` is passed to the `Epochs` object so we can have direct access to the events from the object\n",
    "- `t_min` and `t_max` indicate the time that comprises the epoch, with respect to each event. A `t_min` of 0 indicates the timestamp of the event, and a negative `t_min` indicates time (in seconds) before each event\n",
    "- The `baseline` parameter takes a tuple of times that must be included into the length of the epoch and is used to even out all the epochs so they can be compared"
   ]
  },
  {
   "cell_type": "markdown",
   "id": "8214a3c3-5db6-4687-9393-24da0f7fb62e",
   "metadata": {},
   "source": [
    "# III - Spectral analysis: eyes open - eyes closed\n",
    "\n",
    "Now we are equipped for our first real data analysis using MNE. On this and the next section, we will replicate the two analyses you performed on the data you previously collected using the Muse system and then analyzed using EEGLAB. Some functionalities are different between the two tools, but you will be able to perform the same analyses using both EEGLAB and MNE. For this first analysis, we will:\n",
    "\n",
    "- Filter the data\n",
    "- Set the re-referending\n",
    "- Extract experimental events\n",
    "- Epoch the data\n",
    "- Perform spectral analysis\n",
    "\n",
    "As you already know how to perform the two steps, we will go over the procedure for the spectral analysis. You have data of two different conditions, so we will use the first one as a walk-through the different steps of the analysis, and you will code the same analysis for the second condition and the comparison between the two as an exercise at the end."
   ]
  },
  {
   "cell_type": "code",
   "execution_count": 39,
   "id": "d40056fe-5c9a-443b-9b36-c0deae7774dd",
   "metadata": {},
   "outputs": [
    {
     "ename": "FileNotFoundError",
     "evalue": "input_fname does not exist: /home/dcas/l.darmet/isae_ICM_cours/path/to/your/eyes/closed/data.set",
     "output_type": "error",
     "traceback": [
      "\u001b[0;31m---------------------------------------------------------------------------\u001b[0m",
      "\u001b[0;31mFileNotFoundError\u001b[0m                         Traceback (most recent call last)",
      "Input \u001b[0;32mIn [39]\u001b[0m, in \u001b[0;36m<cell line: 3>\u001b[0;34m()\u001b[0m\n\u001b[1;32m      1\u001b[0m \u001b[38;5;66;03m# Preprocessing\u001b[39;00m\n\u001b[1;32m      2\u001b[0m path_to_data \u001b[38;5;241m=\u001b[39m \u001b[38;5;124m'\u001b[39m\u001b[38;5;124mpath/to/your/eyes/closed/data.set\u001b[39m\u001b[38;5;124m'\u001b[39m\n\u001b[0;32m----> 3\u001b[0m raw_closed \u001b[38;5;241m=\u001b[39m \u001b[43mmne\u001b[49m\u001b[38;5;241;43m.\u001b[39;49m\u001b[43mio\u001b[49m\u001b[38;5;241;43m.\u001b[39;49m\u001b[43mread_raw_eeglab\u001b[49m\u001b[43m(\u001b[49m\u001b[43mpath_to_data\u001b[49m\u001b[43m,\u001b[49m\u001b[43m \u001b[49m\u001b[43mpreload\u001b[49m\u001b[38;5;241;43m=\u001b[39;49m\u001b[38;5;28;43;01mTrue\u001b[39;49;00m\u001b[43m)\u001b[49m\n\u001b[1;32m      5\u001b[0m \u001b[38;5;66;03m# Re-reference to the mastoid electrodes (T9 and T10)\u001b[39;00m\n\u001b[1;32m      6\u001b[0m raw\u001b[38;5;241m.\u001b[39mset_eeg_reference(ref_channels\u001b[38;5;241m=\u001b[39m[\u001b[38;5;124m'\u001b[39m\u001b[38;5;124mT9\u001b[39m\u001b[38;5;124m'\u001b[39m, \u001b[38;5;124m'\u001b[39m\u001b[38;5;124mT10\u001b[39m\u001b[38;5;124m'\u001b[39m])\n",
      "File \u001b[0;32m/usr/local/lib/python3.8/dist-packages/mne/io/eeglab/eeglab.py:261\u001b[0m, in \u001b[0;36mread_raw_eeglab\u001b[0;34m(input_fname, eog, preload, uint16_codec, verbose)\u001b[0m\n\u001b[1;32m    223\u001b[0m \u001b[38;5;129m@fill_doc\u001b[39m\n\u001b[1;32m    224\u001b[0m \u001b[38;5;28;01mdef\u001b[39;00m \u001b[38;5;21mread_raw_eeglab\u001b[39m(input_fname, eog\u001b[38;5;241m=\u001b[39m(), preload\u001b[38;5;241m=\u001b[39m\u001b[38;5;28;01mFalse\u001b[39;00m,\n\u001b[1;32m    225\u001b[0m                     uint16_codec\u001b[38;5;241m=\u001b[39m\u001b[38;5;28;01mNone\u001b[39;00m, verbose\u001b[38;5;241m=\u001b[39m\u001b[38;5;28;01mNone\u001b[39;00m):\n\u001b[1;32m    226\u001b[0m     \u001b[38;5;124mr\u001b[39m\u001b[38;5;124;03m\"\"\"Read an EEGLAB .set file.\u001b[39;00m\n\u001b[1;32m    227\u001b[0m \n\u001b[1;32m    228\u001b[0m \u001b[38;5;124;03m    Parameters\u001b[39;00m\n\u001b[0;32m   (...)\u001b[0m\n\u001b[1;32m    259\u001b[0m \u001b[38;5;124;03m    .. versionadded:: 0.11.0\u001b[39;00m\n\u001b[1;32m    260\u001b[0m \u001b[38;5;124;03m    \"\"\"\u001b[39;00m\n\u001b[0;32m--> 261\u001b[0m     \u001b[38;5;28;01mreturn\u001b[39;00m \u001b[43mRawEEGLAB\u001b[49m\u001b[43m(\u001b[49m\u001b[43minput_fname\u001b[49m\u001b[38;5;241;43m=\u001b[39;49m\u001b[43minput_fname\u001b[49m\u001b[43m,\u001b[49m\u001b[43m \u001b[49m\u001b[43mpreload\u001b[49m\u001b[38;5;241;43m=\u001b[39;49m\u001b[43mpreload\u001b[49m\u001b[43m,\u001b[49m\n\u001b[1;32m    262\u001b[0m \u001b[43m                     \u001b[49m\u001b[43meog\u001b[49m\u001b[38;5;241;43m=\u001b[39;49m\u001b[43meog\u001b[49m\u001b[43m,\u001b[49m\u001b[43m \u001b[49m\u001b[43mverbose\u001b[49m\u001b[38;5;241;43m=\u001b[39;49m\u001b[43mverbose\u001b[49m\u001b[43m,\u001b[49m\u001b[43m \u001b[49m\u001b[43muint16_codec\u001b[49m\u001b[38;5;241;43m=\u001b[39;49m\u001b[43muint16_codec\u001b[49m\u001b[43m)\u001b[49m\n",
      "File \u001b[0;32m<decorator-gen-320>:12\u001b[0m, in \u001b[0;36m__init__\u001b[0;34m(self, input_fname, eog, preload, uint16_codec, verbose)\u001b[0m\n",
      "File \u001b[0;32m/usr/local/lib/python3.8/dist-packages/mne/io/eeglab/eeglab.py:359\u001b[0m, in \u001b[0;36mRawEEGLAB.__init__\u001b[0;34m(self, input_fname, eog, preload, uint16_codec, verbose)\u001b[0m\n\u001b[1;32m    356\u001b[0m \u001b[38;5;129m@verbose\u001b[39m\n\u001b[1;32m    357\u001b[0m \u001b[38;5;28;01mdef\u001b[39;00m \u001b[38;5;21m__init__\u001b[39m(\u001b[38;5;28mself\u001b[39m, input_fname, eog\u001b[38;5;241m=\u001b[39m(),\n\u001b[1;32m    358\u001b[0m              preload\u001b[38;5;241m=\u001b[39m\u001b[38;5;28;01mFalse\u001b[39;00m, uint16_codec\u001b[38;5;241m=\u001b[39m\u001b[38;5;28;01mNone\u001b[39;00m, verbose\u001b[38;5;241m=\u001b[39m\u001b[38;5;28;01mNone\u001b[39;00m):  \u001b[38;5;66;03m# noqa: D102\u001b[39;00m\n\u001b[0;32m--> 359\u001b[0m     input_fname \u001b[38;5;241m=\u001b[39m \u001b[43m_check_fname\u001b[49m\u001b[43m(\u001b[49m\u001b[43minput_fname\u001b[49m\u001b[43m,\u001b[49m\u001b[43m \u001b[49m\u001b[38;5;124;43m'\u001b[39;49m\u001b[38;5;124;43mread\u001b[39;49m\u001b[38;5;124;43m'\u001b[39;49m\u001b[43m,\u001b[49m\u001b[43m \u001b[49m\u001b[38;5;28;43;01mTrue\u001b[39;49;00m\u001b[43m,\u001b[49m\u001b[43m \u001b[49m\u001b[38;5;124;43m'\u001b[39;49m\u001b[38;5;124;43minput_fname\u001b[39;49m\u001b[38;5;124;43m'\u001b[39;49m\u001b[43m)\u001b[49m\n\u001b[1;32m    360\u001b[0m     eeg \u001b[38;5;241m=\u001b[39m _check_load_mat(input_fname, uint16_codec)\n\u001b[1;32m    361\u001b[0m     \u001b[38;5;28;01mif\u001b[39;00m eeg\u001b[38;5;241m.\u001b[39mtrials \u001b[38;5;241m!=\u001b[39m \u001b[38;5;241m1\u001b[39m:\n",
      "File \u001b[0;32m<decorator-gen-18>:12\u001b[0m, in \u001b[0;36m_check_fname\u001b[0;34m(fname, overwrite, must_exist, name, need_dir, verbose)\u001b[0m\n",
      "File \u001b[0;32m/usr/local/lib/python3.8/dist-packages/mne/utils/check.py:245\u001b[0m, in \u001b[0;36m_check_fname\u001b[0;34m(fname, overwrite, must_exist, name, need_dir, verbose)\u001b[0m\n\u001b[1;32m    242\u001b[0m             \u001b[38;5;28;01mraise\u001b[39;00m \u001b[38;5;167;01mPermissionError\u001b[39;00m(\n\u001b[1;32m    243\u001b[0m                 \u001b[38;5;124mf\u001b[39m\u001b[38;5;124m'\u001b[39m\u001b[38;5;132;01m{\u001b[39;00mname\u001b[38;5;132;01m}\u001b[39;00m\u001b[38;5;124m does not have read permissions: \u001b[39m\u001b[38;5;132;01m{\u001b[39;00mfname\u001b[38;5;132;01m}\u001b[39;00m\u001b[38;5;124m'\u001b[39m)\n\u001b[1;32m    244\u001b[0m \u001b[38;5;28;01melif\u001b[39;00m must_exist:\n\u001b[0;32m--> 245\u001b[0m     \u001b[38;5;28;01mraise\u001b[39;00m \u001b[38;5;167;01mFileNotFoundError\u001b[39;00m(\u001b[38;5;124mf\u001b[39m\u001b[38;5;124m'\u001b[39m\u001b[38;5;132;01m{\u001b[39;00mname\u001b[38;5;132;01m}\u001b[39;00m\u001b[38;5;124m does not exist: \u001b[39m\u001b[38;5;132;01m{\u001b[39;00mfname\u001b[38;5;132;01m}\u001b[39;00m\u001b[38;5;124m'\u001b[39m)\n\u001b[1;32m    247\u001b[0m \u001b[38;5;28;01mreturn\u001b[39;00m fname\n",
      "\u001b[0;31mFileNotFoundError\u001b[0m: input_fname does not exist: /home/dcas/l.darmet/isae_ICM_cours/path/to/your/eyes/closed/data.set"
     ]
    }
   ],
   "source": [
    "# Preprocessing\n",
    "path_to_data = 'path/to/your/eyes/closed/data.set'\n",
    "raw_closed = mne.io.read_raw_eeglab(path_to_data, preload=True)\n",
    "\n",
    "# Re-reference to the mastoid electrodes (T9 and T10)\n",
    "raw.set_eeg_reference(ref_channels=['T9', 'T10'])\n",
    "\n",
    "# Filter\n",
    "raw = raw.filter(h_freq=30, l_freq=1)\n",
    "\n",
    "# Extract events\n",
    "events, event_id = mne.events_from_annotations(raw)\n",
    "labels = events.copy()[:, -1]\n",
    "labels -= 1\n",
    "\n",
    "# Epoch the data - Edit the parameters for eyes open / eyes closed data\n",
    "epochs = mne.Epochs(raw, events, event_id=event_id,\n",
    "                    tmin=0, tmax=2, baseline=(0.2, 2),\n",
    "                    preload=True, verbose=False)"
   ]
  },
  {
   "cell_type": "markdown",
   "id": "dd8b08e2-1030-41a2-a617-eaa87090d3e7",
   "metadata": {},
   "source": [
    "Now we will take all the events of the 'eyes closed' condition and transform the signal of the epoch into the spectral domain. Then, we will plot the result separately for each electrode, and we will be able to observe which frequencies are more present on this data condition.\n",
    "\n",
    "First, we import the welch analysis from the scipy library (NOTE: You should never import libraries in the middle of your notebook or script, the correct practice is to import everything at the beginning of your script or on the top cell of the notebook, we do it like this during some notebooks in order to make keeping track of the different elements used easier)"
   ]
  },
  {
   "cell_type": "code",
   "execution_count": null,
   "id": "2f5f1bc6-b6ad-40c6-b1df-2ed3ab7e632b",
   "metadata": {},
   "outputs": [],
   "source": [
    "from scipy.signal import welch\n",
    "import matplotlib.pyplot as plt"
   ]
  },
  {
   "cell_type": "code",
   "execution_count": null,
   "id": "c460f726-df72-483e-b851-7f9a8fe2dede",
   "metadata": {},
   "outputs": [],
   "source": [
    "# Spectral analysis\n",
    "data = epochs.get_data()  # Get the data array from the epochs\n",
    "sfreq = epochs.info['sfreq']\n",
    "\n",
    "f, psd = welch(data, sfreq, nperseg=sfreq)\n",
    "psd_trial = np.mean(psd, axis=0)\n",
    "N = len(data)\n",
    "n = np.arange(N)\n",
    "T = N/sfreq\n",
    "freq = n/T \n",
    "\n",
    "ch_names = epochs.info['ch_names']\n",
    "fig, axes = plt.subplots(len(ch_names), figsize=(5, 3 * len(ch_names)))\n",
    "\n",
    "for i, ch_name in enumerate(ch_names):\n",
    "    #axes[i].stem(f, np.sqrt(psd_trial[i]), linefmt='b', markerfmt=\" \", basefmt=\"-b\")\n",
    "    axes[i].plot(f,psd_trial[i])#linefmt='b', markerfmt=\" \", basefmt=\"-b\")\n",
    "    axes[i].set_xlabel('Freq (Hz)')\n",
    "    axes[i].set_ylabel('$\\mu V^2/Hz$ (dB)')\n",
    "    axes[i].title.set_text(f'Electrode: {ch_names[i]}')\n",
    "    \n",
    "    axes[i].set_xticks(range(0, 40, 2))\n",
    "    axes[i].set_xlim(0, 40)\n",
    "    \n",
    "fig.tight_layout()\n",
    "plt.show()"
   ]
  },
  {
   "cell_type": "markdown",
   "id": "f8cbcd3c-f51f-464b-b273-b069e3a4f535",
   "metadata": {},
   "source": [
    "Excellent! Now you can do the same with the 'eyes open' condition to practice what we have done so far.\n",
    "\n",
    "#### ❓ **Question** ❓ \n",
    "Code the full preprocessing pipeline and spectral analysis. The different steps will be performed on different cells, indicated by a comment block such as `# Filter your data below`. After some steps, you will be asked to fill a text block giving a brief explanation of what you just did. Try to understand what each processing step does to the data and why it is important for us to perform it in order to arrive at meaningful conclusions.\n",
    "\n",
    "If you don't know, do not hesitate to ask the teachers!"
   ]
  },
  {
   "cell_type": "code",
   "execution_count": null,
   "id": "eedcbc6e-3f01-4bec-8462-2d7fa885d180",
   "metadata": {},
   "outputs": [],
   "source": [
    "# Load your eyes closed data\n",
    "path_to_data = \n",
    "raw_closed = "
   ]
  },
  {
   "cell_type": "code",
   "execution_count": null,
   "id": "91fe25af-785f-4962-a73c-01e4ea4dbd48",
   "metadata": {},
   "outputs": [],
   "source": [
    "# Set the re-reference to mastoid electrodes"
   ]
  },
  {
   "cell_type": "markdown",
   "id": "d5d655ad-8d75-4fa8-8049-f39966a56e9a",
   "metadata": {},
   "source": [
    "What does re-referencing do?\n",
    "\n",
    "Answer:"
   ]
  },
  {
   "cell_type": "code",
   "execution_count": null,
   "id": "d7fa1266-21c7-4e9f-93a2-ad77a56279ec",
   "metadata": {},
   "outputs": [],
   "source": [
    "# Filter the data between 1 and 30Hz"
   ]
  },
  {
   "cell_type": "markdown",
   "id": "87012ecc-85ed-4604-9a34-b0a82e4bf2ca",
   "metadata": {},
   "source": [
    "What do we achieve by filtering? Are we using a notch filter this time? Why?\n",
    "\n",
    "Answer:"
   ]
  },
  {
   "cell_type": "code",
   "execution_count": null,
   "id": "e0c8c853-968b-419c-9d03-684cb312c24a",
   "metadata": {},
   "outputs": [],
   "source": [
    "# Extract the events"
   ]
  },
  {
   "cell_type": "markdown",
   "id": "640d3a31-18f0-410a-be66-e08dd1f5413c",
   "metadata": {},
   "source": [
    "What information is contained in the `events` object?\n",
    "\n",
    "Answer:"
   ]
  },
  {
   "cell_type": "code",
   "execution_count": null,
   "id": "3134cdc7-091f-4351-9231-5002205f18a1",
   "metadata": {},
   "outputs": [],
   "source": [
    "# Epoch the data"
   ]
  },
  {
   "cell_type": "markdown",
   "id": "59c03aaa-04d2-4a39-9dcf-fe37afc083b3",
   "metadata": {},
   "source": [
    "What are epochs? What is the time 0 of each epoch?\n",
    "\n",
    "Answer:"
   ]
  },
  {
   "cell_type": "code",
   "execution_count": null,
   "id": "58486ff9-5421-457f-a849-87fe6717dfe4",
   "metadata": {},
   "outputs": [],
   "source": [
    "# Perform the spectral analysis and plot the results (you can copy-paste, it's ok)"
   ]
  },
  {
   "cell_type": "markdown",
   "id": "b831473a-f143-45d5-be39-9373763001bd",
   "metadata": {},
   "source": [
    "Even if you have little experience with spectral analysis, try to think about the information we obtain from the spectral domain. What does it mean to have a peak on the spectral information of one of the conditions?\n",
    "\n",
    "What differences do you observe between the two conditions? What conclusions can you extract from it?\n",
    "\n",
    "Answer:"
   ]
  },
  {
   "cell_type": "markdown",
   "id": "21cc6d01-a664-4fed-b956-4cbb84f8dfa4",
   "metadata": {},
   "source": [
    "## IV - 'Oddball Task' data analysis\n",
    "\n",
    "Now we will conclude this MNE introduction tutorial by analyzing the data you previously acquired for the 'Oddball Task'. We will take this chance to explore evoked potentials and learn to average EEG responses in order to extract a general pattern of activation in response to an experimental event.\n",
    "\n",
    "### 📜 Evaluation\n",
    "\n",
    "You will be evaluated on two aspects: \n",
    "1. A standalone Python script to load and pre-process data, along the data you used.\n",
    "2. A small report (1 page max) explaining your choices and the different steps.\n",
    "\n",
    "We expect your code (a standalone Python script or notebook) and the 1 page report in a *.zip* file by email to <Juan-jesus.TORRE-TRESOLS@isae-supaero.fr> before the 15th of February. Your Python script will be mostly copy-paste of the follwing blocks of code in this notebook."
   ]
  },
  {
   "cell_type": "markdown",
   "id": "4ca9104c-6c80-42c4-ab3d-3534076c6962",
   "metadata": {},
   "source": [
    "We start with the usual preprocessing"
   ]
  },
  {
   "cell_type": "code",
   "execution_count": null,
   "id": "47efd19f-f805-4dd6-a870-bfd722371813",
   "metadata": {},
   "outputs": [],
   "source": [
    "data_path = '/path/to/your/data'\n",
    "raw_data = mne.io.read_raw_eeglab(data_path, preload=True, verbose=False)\n",
    "\n",
    "# Average re-referencing\n",
    "mne.set_eeg_reference(raw_data, 'average', copy=False, verbose=False)\n",
    "\n",
    "# High pass filtering to remove drifts\n",
    "raw_data.filter(l_freq=0.1, h_freq=None)\n",
    "\n",
    "# Epoch data using markers (from -0.3s to +0.7s)\n",
    "events, event_id = mne.events_from_annotations(raw_data, event_id='auto', verbose=False)\n",
    "epochs = mne.Epochs(raw_data, events, event_id=event_id, \n",
    "                    tmin=-0.3, tmax=0.7, preload=True)"
   ]
  },
  {
   "cell_type": "markdown",
   "id": "fdf5c2cf-f6fd-4adc-a8c0-b7d5be919a7e",
   "metadata": {},
   "source": [
    "We will add an extra step we did not see before. We will reject some of the epochs based on a maximum microvolt value. This is usually done for ERPs, so the final shape is nicer."
   ]
  },
  {
   "cell_type": "code",
   "execution_count": null,
   "id": "4df1482f-76dd-4182-b805-d4f9903b4c54",
   "metadata": {},
   "outputs": [],
   "source": [
    "# Reject some epochs that have to large magnitude to have nicer ERP plots\n",
    "reject_criteria = dict(eeg=100e-6)  # 100 µV\n",
    "epochs.drop_bad(reject=reject_criteria)"
   ]
  },
  {
   "cell_type": "markdown",
   "id": "33d5f8fb-5269-4779-b781-5f1f78fa09fa",
   "metadata": {},
   "source": [
    "Now we have to separate the epochs by conditions. If you notice, we passed the `event_id` object when creating the epochs. We can index the epochs using the condition names from `event_id` to separate all the epochs from that condition. For example, if we have a condition named `target`, we can take the average of all the target epochs with `epochs['target'].average()`. Do the same below by using your conditions' names:"
   ]
  },
  {
   "cell_type": "code",
   "execution_count": null,
   "id": "2c09d934-0a54-47ee-be48-e8ba371aa9a8",
   "metadata": {},
   "outputs": [],
   "source": [
    "# Average using conditions --> now it is not \"Epochs\" object anymore but \"Evoked\"\n",
    "l_frequent = \n",
    "l_target = "
   ]
  },
  {
   "cell_type": "markdown",
   "id": "4ec1927b-ef4c-4c0c-8f3b-84e20bccfccd",
   "metadata": {},
   "source": [
    "You can plot the ERP using the `plot()` function"
   ]
  },
  {
   "cell_type": "code",
   "execution_count": null,
   "id": "2e004517-924f-49ad-972f-f220bc2682f2",
   "metadata": {},
   "outputs": [],
   "source": [
    "# Plot ERP\n",
    "fig1 = l_frequent.plot()"
   ]
  },
  {
   "cell_type": "code",
   "execution_count": null,
   "id": "27500897-403f-4d03-be31-a95648494b75",
   "metadata": {},
   "outputs": [],
   "source": [
    "fig2 = l_target.plot(spatial_colors=True)"
   ]
  },
  {
   "cell_type": "markdown",
   "id": "9704279b-42b6-465c-b128-5eb14dbb84c5",
   "metadata": {},
   "source": [
    "You can also plot a topological map, and both the ERP and the topomap together"
   ]
  },
  {
   "cell_type": "code",
   "execution_count": null,
   "id": "3b2051ab-ca27-40cc-89b1-6254ec70103d",
   "metadata": {},
   "outputs": [],
   "source": [
    "# Plot averaged topomap on distinct timestamps\n",
    "l_target.plot_topomap(times=[-0.2, 0.1, 0.4], average=0.05)"
   ]
  },
  {
   "cell_type": "code",
   "execution_count": null,
   "id": "9ca9c0af-a278-4fba-b262-f5bb7d5d2642",
   "metadata": {},
   "outputs": [],
   "source": [
    "# Plot Topo + ERP \n",
    "l_frequent.plot_joint()"
   ]
  },
  {
   "cell_type": "markdown",
   "id": "5779396f-b2b4-4a66-834a-e2db205c081e",
   "metadata": {},
   "source": [
    "Finally, we can compare the ERPs directly on a single plot"
   ]
  },
  {
   "cell_type": "code",
   "execution_count": null,
   "id": "76e3b295-6093-4991-80d2-450a68cdb26c",
   "metadata": {},
   "outputs": [],
   "source": [
    "# Comparing conditions on a subset of electrodes\n",
    "evokeds = dict(frequent=l_frequent, target=l_target)\n",
    "mne.viz.plot_compare_evokeds(evokeds, picks='Fp1')"
   ]
  },
  {
   "cell_type": "code",
   "execution_count": null,
   "id": "7525dca9-c7f4-42f8-b9ac-c4c9a92e1b07",
   "metadata": {},
   "outputs": [],
   "source": [
    "mne.viz.plot_compare_evokeds(evokeds, picks='Fp2')"
   ]
  },
  {
   "cell_type": "code",
   "execution_count": null,
   "id": "6747d5c9-2141-4a62-8c0d-c65f2911dd9e",
   "metadata": {},
   "outputs": [],
   "source": [
    "mne.viz.plot_compare_evokeds(evokeds, picks=['Fp1', 'Fp2'], combine='mean')"
   ]
  }
 ],
 "metadata": {
  "kernelspec": {
   "display_name": "Python 3 (ipykernel)",
   "language": "python",
   "name": "python3"
  },
  "language_info": {
   "codemirror_mode": {
    "name": "ipython",
    "version": 3
   },
   "file_extension": ".py",
   "mimetype": "text/x-python",
   "name": "python",
   "nbconvert_exporter": "python",
   "pygments_lexer": "ipython3",
   "version": "3.8.10"
  }
 },
 "nbformat": 4,
 "nbformat_minor": 5
}
