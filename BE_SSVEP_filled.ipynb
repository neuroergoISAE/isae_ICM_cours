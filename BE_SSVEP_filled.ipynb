{
 "cells": [
  {
   "cell_type": "markdown",
   "id": "d969c11b-c8f3-435f-9afa-988726d97be6",
   "metadata": {},
   "source": [
    "<h1 class=\"text-center\">BCI - Decoding frequency-tagging: a SSVEP-based BCI</h1>\n",
    "<h2 class=\"text-center\">February, 2022</h2>\n",
    "\n",
    "<br>\n",
    "\n",
    "The purpose of this tutorial is to implement a reactive BCI using SSVEP on a dataset collected in our laboratory. You will use MNE to load and pre-process the data and Sklearn+MNE for the classification part. \n",
    "</b></div>\n",
    "\n",
    "- In Section I, exploration data analysis, frequency analysis and epoching using MNE\n",
    "- In Section II, a first classifier is trained on SNR at stimulation frequencies\n",
    "- In Section III, another pipeline that uses Canonical Correlation Analysis with sinus templates to learn a spatial filter.\n",
    "- In Section IV, a more advance pipeline based on Task Related Correlation Analysis that add individual templates from calibration data and temporal filterbank to CCA pipeline.\n",
    "- The last section (V) explores more comfortable stimulation for SSVEP-based BCI (lower amplitude)\n",
    "\n",
    "The code must be completed after each **Question** to work, where \"HERE\" appears as a comment in the code. The parameters that do not change the course of the story are accompanied \"EDIT ME!\" as a comment: you can change them at the time or at the end of the section to see the changes involved."
   ]
  },
  {
   "cell_type": "code",
   "execution_count": null,
   "id": "287882dd-b98c-4d02-ab93-42ea3baf64c0",
   "metadata": {},
   "outputs": [],
   "source": [
    "import matplotlib.pyplot as plt\n",
    "import mne\n",
    "import numpy as np\n",
    "from scipy.stats import ttest_rel"
   ]
  }
 ],
 "metadata": {
  "kernelspec": {
   "display_name": "Python 3 (ipykernel)",
   "language": "python",
   "name": "python3"
  },
  "language_info": {
   "codemirror_mode": {
    "name": "ipython",
    "version": 3
   },
   "file_extension": ".py",
   "mimetype": "text/x-python",
   "name": "python",
   "nbconvert_exporter": "python",
   "pygments_lexer": "ipython3",
   "version": "3.8.10"
  }
 },
 "nbformat": 4,
 "nbformat_minor": 5
}
